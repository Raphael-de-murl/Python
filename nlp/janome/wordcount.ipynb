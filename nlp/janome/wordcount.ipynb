{
  "nbformat": 4,
  "nbformat_minor": 0,
  "metadata": {
    "colab": {
      "name": "wordcount.ipynb",
      "version": "0.3.2",
      "provenance": [],
      "include_colab_link": true
    },
    "kernelspec": {
      "display_name": "Python 3",
      "language": "python",
      "name": "python3"
    }
  },
  "cells": [
    {
      "cell_type": "markdown",
      "metadata": {
        "id": "view-in-github",
        "colab_type": "text"
      },
      "source": [
        "<a href=\"https://colab.research.google.com/github/Woobin-Seo/Python/blob/master/nlp/janome/wordcount.ipynb\" target=\"_parent\"><img src=\"https://colab.research.google.com/assets/colab-badge.svg\" alt=\"Open In Colab\"/></a>"
      ]
    },
    {
      "metadata": {
        "id": "Xf1wvjKGvdGZ",
        "colab_type": "code",
        "colab": {}
      },
      "cell_type": "code",
      "source": [
        "import zipfile\n",
        "import os.path, urllib.request as request\n",
        "\n",
        "from janome.tokenizer import Tokenizer"
      ],
      "execution_count": 0,
      "outputs": []
    },
    {
      "metadata": {
        "id": "vMpNC0MYvdGe",
        "colab_type": "code",
        "colab": {}
      },
      "cell_type": "code",
      "source": [
        "#データファイルをダウンロードする"
      ],
      "execution_count": 0,
      "outputs": []
    },
    {
      "metadata": {
        "id": "Q0s9PUoTvdGi",
        "colab_type": "code",
        "colab": {}
      },
      "cell_type": "code",
      "source": [
        "url = \"https://www.aozora.gr.jp/cards/000081/files/462_ruby_716.zip\""
      ],
      "execution_count": 0,
      "outputs": []
    },
    {
      "metadata": {
        "id": "tbr4FQHQvdGl",
        "colab_type": "code",
        "colab": {}
      },
      "cell_type": "code",
      "source": [
        "localfile = \"462_ruby_716.zip\""
      ],
      "execution_count": 0,
      "outputs": []
    },
    {
      "metadata": {
        "id": "XPV4uVHsvdGo",
        "colab_type": "code",
        "colab": {},
        "outputId": "bc9dcdf6-03b3-4924-8318-d319d8386980"
      },
      "cell_type": "code",
      "source": [
        "if not os.path.exists(localfile):\n",
        "    print(\"ファイルをダウンロードします\")\n",
        "    \n",
        "    request.urlretrieve(url, localfile)"
      ],
      "execution_count": 0,
      "outputs": [
        {
          "output_type": "stream",
          "text": [
            "ファイルをダウンロードします\n"
          ],
          "name": "stdout"
        }
      ]
    },
    {
      "metadata": {
        "id": "-nQC0mGzvdGu",
        "colab_type": "code",
        "colab": {}
      },
      "cell_type": "code",
      "source": [
        "zipfile = zipfile.ZipFile(localfile, 'r')"
      ],
      "execution_count": 0,
      "outputs": []
    },
    {
      "metadata": {
        "id": "Z1sJtnJzvdGx",
        "colab_type": "code",
        "colab": {}
      },
      "cell_type": "code",
      "source": [
        "file = zipfile.open('kazeno_matasaburo.txt', 'r')"
      ],
      "execution_count": 0,
      "outputs": []
    },
    {
      "metadata": {
        "id": "3cBf1FrAvdG1",
        "colab_type": "code",
        "colab": {}
      },
      "cell_type": "code",
      "source": [
        "bindata = file.read()"
      ],
      "execution_count": 0,
      "outputs": []
    },
    {
      "metadata": {
        "id": "71hwKiOXvdG5",
        "colab_type": "code",
        "colab": {}
      },
      "cell_type": "code",
      "source": [
        "textdata = bindata.decode('shift_jis')"
      ],
      "execution_count": 0,
      "outputs": []
    },
    {
      "metadata": {
        "id": "SgOhkqawvdG8",
        "colab_type": "code",
        "colab": {}
      },
      "cell_type": "code",
      "source": [
        "t = Tokenizer()"
      ],
      "execution_count": 0,
      "outputs": []
    },
    {
      "metadata": {
        "id": "zW0t5a2QvdG_",
        "colab_type": "code",
        "colab": {}
      },
      "cell_type": "code",
      "source": [
        "worddic = {}"
      ],
      "execution_count": 0,
      "outputs": []
    },
    {
      "metadata": {
        "id": "r-uJXni1vdHE",
        "colab_type": "code",
        "colab": {}
      },
      "cell_type": "code",
      "source": [
        "lines = textdata.split(\"\\r\\n\")"
      ],
      "execution_count": 0,
      "outputs": []
    },
    {
      "metadata": {
        "id": "FhzSwOACvdHH",
        "colab_type": "code",
        "colab": {}
      },
      "cell_type": "code",
      "source": [
        "for line in lines:\n",
        "    malist = t.tokenize(line)\n",
        "    \n",
        "    for w in malist:\n",
        "        word = w.surface\n",
        "        part = w.part_of_speech\n",
        "        \n",
        "        if part.find('名詞') < 0: \n",
        "            continue\n",
        "        \n",
        "        if not word in worddic:\n",
        "            worddic[word] = 0\n",
        "#         既にカウンターがあった場合\n",
        "        worddic[word] += 1"
      ],
      "execution_count": 0,
      "outputs": []
    },
    {
      "metadata": {
        "id": "koJ1xNovvdHI",
        "colab_type": "code",
        "colab": {},
        "outputId": "bd85183e-7fca-41d3-a08d-0fdd4dbb876c"
      },
      "cell_type": "code",
      "source": [
        "keys = sorted(worddic.items(), key = lambda x:x[1], reverse=True)\n",
        "\n",
        "for word, cnt in keys[:50]:\n",
        "    print(\"{0}({1})\\n\".format(word, cnt), end=\"\")"
      ],
      "execution_count": 0,
      "outputs": [
        {
          "output_type": "stream",
          "text": [
            "みんな(167)\n",
            "三郎(135)\n",
            "の(134)\n",
            "よう(114)\n",
            "一郎(91)\n",
            "嘉助(88)\n",
            "一(83)\n",
            "人(69)\n",
            "それ(62)\n",
            "先生(61)\n",
            "馬(56)\n",
            "年生(53)\n",
            "ほう(48)\n",
            "二(47)\n",
            "郎(47)\n",
            "三(44)\n",
            "風(39)\n",
            "中(39)\n",
            "助(39)\n",
            "前(37)\n",
            "耕(37)\n",
            "木(36)\n",
            "水(36)\n",
            "上(35)\n",
            "ん(33)\n",
            "草(32)\n",
            "何(32)\n",
            "顔(26)\n",
            "手(26)\n",
            "さん(25)\n",
            "ろ(25)\n",
            "ら(25)\n",
            "目(25)\n",
            "とき(25)\n",
            "向こう(24)\n",
            "そう(24)\n",
            "子(23)\n",
            "佐太郎(23)\n",
            "教室(22)\n",
            "うし(22)\n",
            "下(22)\n",
            "五(21)\n",
            "ところ(20)\n",
            "こと(20)\n",
            "おら(19)\n",
            "さ(19)\n",
            "そこ(19)\n",
            "栗(18)\n",
            "机(18)\n",
            "四(18)\n"
          ],
          "name": "stdout"
        }
      ]
    },
    {
      "metadata": {
        "id": "a4FAKJgZvdHM",
        "colab_type": "code",
        "colab": {}
      },
      "cell_type": "code",
      "source": [
        ""
      ],
      "execution_count": 0,
      "outputs": []
    }
  ]
}