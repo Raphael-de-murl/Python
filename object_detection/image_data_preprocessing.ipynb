{
  "nbformat": 4,
  "nbformat_minor": 0,
  "metadata": {
    "colab": {
      "name": "image_data_preprocessing.ipynb",
      "version": "0.3.2",
      "provenance": [],
      "include_colab_link": true
    },
    "kernelspec": {
      "name": "python3",
      "display_name": "Python 3"
    }
  },
  "cells": [
    {
      "cell_type": "markdown",
      "metadata": {
        "id": "view-in-github",
        "colab_type": "text"
      },
      "source": [
        "<a href=\"https://colab.research.google.com/github/Woobin-Seo/Python/blob/master/object_detection/image_data_preprocessing.ipynb\" target=\"_parent\"><img src=\"https://colab.research.google.com/assets/colab-badge.svg\" alt=\"Open In Colab\"/></a>"
      ]
    },
    {
      "metadata": {
        "id": "yZ30lldrr814",
        "colab_type": "code",
        "colab": {}
      },
      "cell_type": "code",
      "source": [
        "import os, glob\n",
        "import numpy as np\n",
        "\n",
        "from PIL import Image"
      ],
      "execution_count": 0,
      "outputs": []
    },
    {
      "metadata": {
        "id": "SL5Jm2O2tAuX",
        "colab_type": "code",
        "colab": {}
      },
      "cell_type": "code",
      "source": [
        "classes = [\"cats\", \"lions\"]\n",
        "num_classes = len(classes)\n",
        "image_size = 50\n",
        "num_testdata = 25"
      ],
      "execution_count": 0,
      "outputs": []
    },
    {
      "metadata": {
        "id": "JlQ90jnPtOgT",
        "colab_type": "code",
        "colab": {}
      },
      "cell_type": "code",
      "source": [
        "X_train = []\n",
        "X_test = []\n",
        "Y_train = []\n",
        "Y_test = []"
      ],
      "execution_count": 0,
      "outputs": []
    },
    {
      "metadata": {
        "id": "A_Rz4uPYtUVL",
        "colab_type": "code",
        "colab": {}
      },
      "cell_type": "code",
      "source": [
        "for index, classlabel in enumerate(classes):\n",
        "  photo_dir = \"./\" + classlabel\n",
        "  files = glob.glob(photo_dir + \"/*.jpg\")\n",
        "  \n",
        "  for i, file in enumerate(files):\n",
        "    image = Image.open(file)\n",
        "    image = image.convert(\"RGB\")\n",
        "    image = image.resize((image_size, image_size))\n",
        "    data = np.asarray(image)\n",
        "    \n",
        "    if i < num_testdata:\n",
        "      X_test.append(data)\n",
        "      Y_test.append(index)\n",
        "    else:\n",
        "      for angle in range(-20, 20, 5):\n",
        "        img_r = image.rotate(angle)\n",
        "        data = np.asarray(img_r)\n",
        "        \n",
        "        X_train.append(data)\n",
        "        Y_train.append(index)\n",
        "        \n",
        "        img_trans = img_r.transpose(Image.FLIP_LEFT_RIGHT)\n",
        "        data = np.asarray(img_trans)\n",
        "        \n",
        "        X_train.append(data)\n",
        "        Y_train.append(index)"
      ],
      "execution_count": 0,
      "outputs": []
    },
    {
      "metadata": {
        "id": "XI9GuTC-uRkg",
        "colab_type": "code",
        "colab": {}
      },
      "cell_type": "code",
      "source": [
        "X_train = np.array(X_train)\n",
        "Y_test = np.array(X_test)\n",
        "Y_train = np.array(Y_train)\n",
        "Y_test = np.array(Y_test)"
      ],
      "execution_count": 0,
      "outputs": []
    },
    {
      "metadata": {
        "id": "ssTbIFeWuhug",
        "colab_type": "code",
        "colab": {}
      },
      "cell_type": "code",
      "source": [
        "xy = (X_train, X_test, Y_train, Y_test)\n",
        "np.save(\"./cat_lion.npy\", xy)"
      ],
      "execution_count": 0,
      "outputs": []
    }
  ]
}