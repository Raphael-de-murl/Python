{
  "nbformat": 4,
  "nbformat_minor": 0,
  "metadata": {
    "colab": {
      "name": "Q-Table Update.ipynb",
      "version": "0.3.2",
      "provenance": [],
      "collapsed_sections": [],
      "include_colab_link": true
    },
    "kernelspec": {
      "name": "python3",
      "display_name": "Python 3"
    }
  },
  "cells": [
    {
      "cell_type": "markdown",
      "metadata": {
        "id": "view-in-github",
        "colab_type": "text"
      },
      "source": [
        "<a href=\"https://colab.research.google.com/github/Woobin-Seo/Python/blob/master/Ipynb/Q_Table_Update.ipynb\" target=\"_parent\"><img src=\"https://colab.research.google.com/assets/colab-badge.svg\" alt=\"Open In Colab\"/></a>"
      ]
    },
    {
      "metadata": {
        "id": "XBjEHuwLuDbE",
        "colab_type": "code",
        "colab": {}
      },
      "cell_type": "code",
      "source": [
        "import gym"
      ],
      "execution_count": 0,
      "outputs": []
    },
    {
      "metadata": {
        "id": "0zNVXWzluJVi",
        "colab_type": "code",
        "colab": {}
      },
      "cell_type": "code",
      "source": [
        "import numpy as np"
      ],
      "execution_count": 0,
      "outputs": []
    },
    {
      "metadata": {
        "id": "cSOu4jjyuMEJ",
        "colab_type": "code",
        "colab": {
          "base_uri": "https://localhost:8080/",
          "height": 71
        },
        "outputId": "277602e7-df10-41a6-a2f5-bd9c51199863"
      },
      "cell_type": "code",
      "source": [
        "env = gym.make('FrozenLake8x8-v0') #4x4"
      ],
      "execution_count": 3,
      "outputs": [
        {
          "output_type": "stream",
          "text": [
            "/usr/local/lib/python3.6/dist-packages/gym/envs/registration.py:14: PkgResourcesDeprecationWarning: Parameters to load are deprecated.  Call .resolve and .require separately.\n",
            "  result = entry_point.load(False)\n"
          ],
          "name": "stderr"
        }
      ]
    },
    {
      "metadata": {
        "id": "tTq11GGAuVW7",
        "colab_type": "code",
        "colab": {}
      },
      "cell_type": "code",
      "source": [
        "# !pip install scipy"
      ],
      "execution_count": 0,
      "outputs": []
    },
    {
      "metadata": {
        "id": "fRqXxhB9uZZh",
        "colab_type": "code",
        "colab": {}
      },
      "cell_type": "code",
      "source": [
        "Q = np.zeros([env.observation_space.n, env.action_space.n])"
      ],
      "execution_count": 0,
      "outputs": []
    },
    {
      "metadata": {
        "id": "bammNnXIu4NI",
        "colab_type": "code",
        "colab": {}
      },
      "cell_type": "code",
      "source": [
        "# Q"
      ],
      "execution_count": 0,
      "outputs": []
    },
    {
      "metadata": {
        "id": "GnEczXcTwSoa",
        "colab_type": "code",
        "colab": {}
      },
      "cell_type": "code",
      "source": [
        "lr = 0.8 # learning rate\n",
        "y = 0.95 # 割引率\n",
        "num_episodes = 2000\n",
        "rList = []"
      ],
      "execution_count": 0,
      "outputs": []
    },
    {
      "metadata": {
        "id": "qs8aNH-ww0ah",
        "colab_type": "code",
        "colab": {}
      },
      "cell_type": "code",
      "source": [
        "for i in range(num_episodes):\n",
        "  s = env.reset()\n",
        "  rAll = 0\n",
        "  d = False\n",
        "  j = 0\n",
        "  \n",
        "  while j < 99:\n",
        "    j += 1\n",
        "    a = np.argmax(Q[s,:] + np.random.randn(1, env.action_space.n) * (1.0 / (i + 1)))\n",
        "    s1, r, d,_ = env.step(a)\n",
        "    Q[s, a] = Q[s, a] + lr * (r + y * np.max(Q[s1,:]) - Q[s, a])\n",
        "    rAll += r\n",
        "    s = s1\n",
        "    \n",
        "    if d == True:\n",
        "      break\n",
        "  \n",
        "  rList.append(rAll)"
      ],
      "execution_count": 0,
      "outputs": []
    },
    {
      "metadata": {
        "id": "F1YgbUh7yfU8",
        "colab_type": "code",
        "colab": {}
      },
      "cell_type": "code",
      "source": [
        " #rList #1.0はゴールまでたどり着いた場合"
      ],
      "execution_count": 0,
      "outputs": []
    },
    {
      "metadata": {
        "id": "h-cZ9RZ5y9Bi",
        "colab_type": "code",
        "colab": {
          "base_uri": "https://localhost:8080/",
          "height": 34
        },
        "outputId": "c9b07f8a-8071-4378-8516-2845f6a7dafd"
      },
      "cell_type": "code",
      "source": [
        "print(\"回数ごとの結果:\" + str(sum(rList) / num_episodes))"
      ],
      "execution_count": 8,
      "outputs": [
        {
          "output_type": "stream",
          "text": [
            "回数ごとの結果:0.0155\n"
          ],
          "name": "stdout"
        }
      ]
    },
    {
      "metadata": {
        "id": "1YItT7F3zXIw",
        "colab_type": "code",
        "colab": {
          "base_uri": "https://localhost:8080/",
          "height": 1122
        },
        "outputId": "7c833eb3-d1e9-4da7-b122-4a4304aa1e22"
      },
      "cell_type": "code",
      "source": [
        "print(\"最終的なQテーブルの値\")\n",
        "\n",
        "# 左、下、右、上の中で値が高い数値がアクションの最大の報酬値\n",
        "print(Q)"
      ],
      "execution_count": 9,
      "outputs": [
        {
          "output_type": "stream",
          "text": [
            "最終的なQテーブルの値\n",
            "[[2.21734245e-03 1.67692917e-02 2.22853406e-03 2.19755549e-03]\n",
            " [2.31838192e-03 2.33435727e-03 2.36945002e-02 2.23895721e-03]\n",
            " [1.64932152e-03 1.66696243e-03 3.82957568e-02 2.49792967e-03]\n",
            " [3.00253284e-03 2.92272750e-03 3.96011380e-02 2.01208060e-03]\n",
            " [7.34154196e-04 2.27985093e-03 3.08306465e-03 5.80246560e-02]\n",
            " [2.95157528e-03 8.44757993e-04 4.82640013e-02 2.18829225e-03]\n",
            " [5.36119413e-02 3.12824036e-03 2.19609588e-03 2.27659769e-03]\n",
            " [2.24125775e-03 2.13366809e-03 5.80671963e-02 2.98394394e-03]\n",
            " [2.38343483e-03 2.18467059e-03 2.14163134e-03 5.94633206e-03]\n",
            " [2.10716536e-03 2.08476952e-03 2.45627641e-03 1.52117867e-02]\n",
            " [1.03784624e-03 9.72048906e-04 9.94352871e-04 2.78432391e-02]\n",
            " [4.62446332e-04 1.42106737e-04 1.75118285e-04 2.78883827e-02]\n",
            " [1.30724302e-03 1.70793827e-03 7.60844800e-04 2.74053357e-02]\n",
            " [2.01759055e-03 1.50383149e-03 2.37240466e-03 4.93043598e-02]\n",
            " [8.38518567e-04 2.16551125e-03 5.33513187e-02 9.69097566e-04]\n",
            " [4.14641746e-02 2.11596049e-03 2.10887186e-03 2.21319606e-03]\n",
            " [2.11544520e-03 2.11906175e-03 1.63983503e-03 5.46051651e-03]\n",
            " [2.25699480e-03 1.15557152e-03 3.19870813e-03 1.91930082e-03]\n",
            " [2.40183378e-03 7.11258587e-05 3.00152530e-05 6.23549626e-05]\n",
            " [0.00000000e+00 0.00000000e+00 0.00000000e+00 0.00000000e+00]\n",
            " [1.09252476e-03 7.30949826e-05 4.49429786e-02 5.66277559e-04]\n",
            " [2.10220585e-04 1.27205674e-04 1.68157448e-04 1.74149418e-02]\n",
            " [1.38070400e-03 2.01527788e-03 8.65241152e-04 4.11851582e-02]\n",
            " [2.22635531e-03 1.03368295e-03 1.03453038e-01 2.35206561e-03]\n",
            " [1.01267912e-03 1.70333895e-03 1.87862636e-03 1.64988415e-03]\n",
            " [1.01451051e-03 1.10483713e-03 1.91746700e-03 8.75244152e-04]\n",
            " [1.49266012e-03 6.65804497e-04 2.18539815e-04 9.75282873e-04]\n",
            " [1.87108933e-06 1.41417668e-04 6.73992121e-04 5.94096946e-04]\n",
            " [1.04095383e-03 6.94984859e-04 8.91476452e-04 3.79963777e-05]\n",
            " [0.00000000e+00 0.00000000e+00 0.00000000e+00 0.00000000e+00]\n",
            " [1.49038159e-04 3.16159890e-04 5.33736448e-02 2.32390028e-04]\n",
            " [1.01978044e-01 7.90441053e-04 9.59457707e-04 8.95717479e-04]\n",
            " [5.38418366e-04 7.83107439e-04 5.19013584e-04 7.44276327e-04]\n",
            " [6.70328300e-04 1.17209930e-05 1.70456100e-04 1.05829153e-03]\n",
            " [4.35937087e-05 4.14132304e-06 2.38217276e-04 1.64058299e-04]\n",
            " [0.00000000e+00 0.00000000e+00 0.00000000e+00 0.00000000e+00]\n",
            " [2.09039222e-05 2.78109953e-05 4.94416399e-03 5.04536859e-04]\n",
            " [2.47916425e-06 1.24388280e-03 2.99528852e-04 8.57999509e-05]\n",
            " [3.30448183e-04 2.07576866e-04 2.52227173e-06 9.00934334e-02]\n",
            " [4.36474450e-04 4.40071333e-01 8.78868425e-04 4.95785411e-04]\n",
            " [3.16540727e-04 1.01228967e-05 3.83669454e-05 4.42060367e-05]\n",
            " [0.00000000e+00 0.00000000e+00 0.00000000e+00 0.00000000e+00]\n",
            " [0.00000000e+00 0.00000000e+00 0.00000000e+00 0.00000000e+00]\n",
            " [0.00000000e+00 0.00000000e+00 0.00000000e+00 0.00000000e+00]\n",
            " [7.72130385e-07 2.97716178e-05 4.94173932e-04 5.70826868e-04]\n",
            " [3.16338960e-05 7.83463627e-06 9.45350926e-04 2.04191567e-04]\n",
            " [0.00000000e+00 0.00000000e+00 0.00000000e+00 0.00000000e+00]\n",
            " [1.65875573e-05 7.33116300e-04 6.84755738e-01 8.62840533e-04]\n",
            " [3.08858901e-04 6.65426078e-05 8.76906998e-05 3.16006204e-04]\n",
            " [0.00000000e+00 0.00000000e+00 0.00000000e+00 0.00000000e+00]\n",
            " [0.00000000e+00 0.00000000e+00 0.00000000e+00 0.00000000e+00]\n",
            " [0.00000000e+00 0.00000000e+00 0.00000000e+00 0.00000000e+00]\n",
            " [0.00000000e+00 0.00000000e+00 0.00000000e+00 0.00000000e+00]\n",
            " [0.00000000e+00 0.00000000e+00 0.00000000e+00 0.00000000e+00]\n",
            " [0.00000000e+00 0.00000000e+00 0.00000000e+00 0.00000000e+00]\n",
            " [1.51126269e-01 0.00000000e+00 0.00000000e+00 0.00000000e+00]\n",
            " [4.15061453e-04 2.38691110e-04 2.53581001e-04 2.10837335e-04]\n",
            " [1.90491563e-04 1.57351212e-04 1.57351212e-04 4.14082138e-05]\n",
            " [0.00000000e+00 0.00000000e+00 0.00000000e+00 0.00000000e+00]\n",
            " [0.00000000e+00 0.00000000e+00 0.00000000e+00 0.00000000e+00]\n",
            " [0.00000000e+00 0.00000000e+00 0.00000000e+00 0.00000000e+00]\n",
            " [0.00000000e+00 0.00000000e+00 0.00000000e+00 0.00000000e+00]\n",
            " [0.00000000e+00 0.00000000e+00 0.00000000e+00 0.00000000e+00]\n",
            " [0.00000000e+00 0.00000000e+00 0.00000000e+00 0.00000000e+00]]\n"
          ],
          "name": "stdout"
        }
      ]
    },
    {
      "metadata": {
        "id": "oUFZ5O-Ezhxo",
        "colab_type": "code",
        "colab": {}
      },
      "cell_type": "code",
      "source": [
        ""
      ],
      "execution_count": 0,
      "outputs": []
    }
  ]
}