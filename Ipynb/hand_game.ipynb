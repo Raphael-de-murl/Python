{
  "nbformat": 4,
  "nbformat_minor": 0,
  "metadata": {
    "colab": {
      "name": "hand_game.ipynb",
      "version": "0.3.2",
      "provenance": [],
      "collapsed_sections": [],
      "include_colab_link": true
    },
    "kernelspec": {
      "name": "python3",
      "display_name": "Python 3"
    }
  },
  "cells": [
    {
      "cell_type": "markdown",
      "metadata": {
        "id": "view-in-github",
        "colab_type": "text"
      },
      "source": [
        "<a href=\"https://colab.research.google.com/github/Woobin-Seo/Python/blob/master/Ipynb/hand_game.ipynb\" target=\"_parent\"><img src=\"https://colab.research.google.com/assets/colab-badge.svg\" alt=\"Open In Colab\"/></a>"
      ]
    },
    {
      "metadata": {
        "id": "uCcx66UK7BF3",
        "colab_type": "code",
        "colab": {
          "base_uri": "https://localhost:8080/",
          "height": 289
        },
        "outputId": "d89eb02d-84b1-4e42-d6fd-c733ad1a6150"
      },
      "cell_type": "code",
      "source": [
        "import random\n",
        "\n",
        "win = 0\n",
        "draw = 0\n",
        "\n",
        "for i in range(3):\n",
        "  print(\"ジャンケン\" + str(i + 1) + \"回目\")\n",
        "  print(\"> 0:グー、1:チョキ、2:パー\")\n",
        "  \n",
        "  com = random.randint(0,2)\n",
        "  \n",
        "  you = int(input(\"あなたの手は？\"))\n",
        "  \n",
        "  print(\"コンピューターの手 = \" + str(com))\n",
        "  \n",
        "  if com == 0:\n",
        "        if you == 2:\n",
        "            print(\"勝ち\")\n",
        "            win+=1\n",
        "        elif you == 1:\n",
        "            print(\"負け\")\n",
        "        elif you == 0:\n",
        "            print(\"あいこ\")\n",
        "            draw+=1\n",
        "  elif com == 1:\n",
        "      if you == 0:\n",
        "          print(\"勝ち\")\n",
        "          win+=1\n",
        "      elif you == 2:\n",
        "          print(\"負け\")\n",
        "      elif you == 1:\n",
        "          print(\"あいこ\")\n",
        "          draw+=1    \n",
        "  elif com == 2:\n",
        "      if you == 1:\n",
        "          print(\"勝ち\")\n",
        "          win+=1\n",
        "      elif you == 0:\n",
        "          print(\"負け\")\n",
        "      elif you == 1:\n",
        "          print(\"あいこ\")\n",
        "          draw+=1\n",
        "  \n",
        "print(\"結果=3戦\"+str(win)+\"勝\"+str(draw)+\"引分\")"
      ],
      "execution_count": 4,
      "outputs": [
        {
          "output_type": "stream",
          "text": [
            "ジャンケン1回目\n",
            "> 0:グー、1:チョキ、2:パー\n",
            "あなたの手は？1\n",
            "コンピューターの手 = 0\n",
            "負け\n",
            "ジャンケン2回目\n",
            "> 0:グー、1:チョキ、2:パー\n",
            "あなたの手は？1\n",
            "コンピューターの手 = 2\n",
            "勝ち\n",
            "ジャンケン3回目\n",
            "> 0:グー、1:チョキ、2:パー\n",
            "あなたの手は？1\n",
            "コンピューターの手 = 2\n",
            "勝ち\n",
            "結果=3戦2勝0引分\n"
          ],
          "name": "stdout"
        }
      ]
    },
    {
      "metadata": {
        "id": "c0QdeiT-9XmG",
        "colab_type": "code",
        "colab": {}
      },
      "cell_type": "code",
      "source": [
        ""
      ],
      "execution_count": 0,
      "outputs": []
    }
  ]
}