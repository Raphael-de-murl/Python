{
  "nbformat": 4,
  "nbformat_minor": 0,
  "metadata": {
    "colab": {
      "name": "first_anome.ipynb",
      "version": "0.3.2",
      "provenance": [],
      "collapsed_sections": [],
      "include_colab_link": true
    },
    "kernelspec": {
      "name": "python3",
      "display_name": "Python 3"
    }
  },
  "cells": [
    {
      "cell_type": "markdown",
      "metadata": {
        "id": "view-in-github",
        "colab_type": "text"
      },
      "source": [
        "<a href=\"https://colab.research.google.com/github/Woobin-Seo/Python/blob/master/Ipynb/first_anome.ipynb\" target=\"_parent\"><img src=\"https://colab.research.google.com/assets/colab-badge.svg\" alt=\"Open In Colab\"/></a>"
      ]
    },
    {
      "metadata": {
        "id": "mhvRZZv0oXB3",
        "colab_type": "code",
        "colab": {
          "base_uri": "https://localhost:8080/",
          "height": 122
        },
        "outputId": "9e01e9e8-cb31-4138-d750-3ab5fca77021"
      },
      "cell_type": "code",
      "source": [
        "#!pip install janome"
      ],
      "execution_count": 2,
      "outputs": [
        {
          "output_type": "stream",
          "text": [
            "Collecting janome\n",
            "\u001b[?25l  Downloading https://files.pythonhosted.org/packages/a0/af/a57956e98b26beebc4efe20c3f5b482f0b4e091f546bfd90a96678da2f1c/Janome-0.3.7-py27.py3-none-any.whl (20.7MB)\n",
            "\u001b[K    100% |████████████████████████████████| 20.7MB 1.6MB/s \n",
            "\u001b[?25hInstalling collected packages: janome\n",
            "Successfully installed janome-0.3.7\n"
          ],
          "name": "stdout"
        }
      ]
    },
    {
      "metadata": {
        "id": "DHrxr8VGpRb8",
        "colab_type": "code",
        "colab": {}
      },
      "cell_type": "code",
      "source": [
        "from janome.tokenizer import Tokenizer"
      ],
      "execution_count": 0,
      "outputs": []
    },
    {
      "metadata": {
        "id": "kgT9DY1Epuoa",
        "colab_type": "code",
        "colab": {}
      },
      "cell_type": "code",
      "source": [
        "t = Tokenizer()"
      ],
      "execution_count": 0,
      "outputs": []
    },
    {
      "metadata": {
        "id": "cV-Vj0rtpAwk",
        "colab_type": "code",
        "colab": {}
      },
      "cell_type": "code",
      "source": [
        "malist = t.tokenize(\"すもももももももものうち\")"
      ],
      "execution_count": 0,
      "outputs": []
    },
    {
      "metadata": {
        "id": "kw1jvraFp-gR",
        "colab_type": "code",
        "colab": {
          "base_uri": "https://localhost:8080/",
          "height": 136
        },
        "outputId": "1a63d888-07fa-41c1-8f82-27f5d734a7f9"
      },
      "cell_type": "code",
      "source": [
        "for n in malist:\n",
        "  print(n)"
      ],
      "execution_count": 5,
      "outputs": [
        {
          "output_type": "stream",
          "text": [
            "すもも\t名詞,一般,*,*,*,*,すもも,スモモ,スモモ\n",
            "も\t助詞,係助詞,*,*,*,*,も,モ,モ\n",
            "もも\t名詞,一般,*,*,*,*,もも,モモ,モモ\n",
            "も\t助詞,係助詞,*,*,*,*,も,モ,モ\n",
            "もも\t名詞,一般,*,*,*,*,もも,モモ,モモ\n",
            "の\t助詞,連体化,*,*,*,*,の,ノ,ノ\n",
            "うち\t名詞,非自立,副詞可能,*,*,*,うち,ウチ,ウチ\n"
          ],
          "name": "stdout"
        }
      ]
    },
    {
      "metadata": {
        "id": "VOCZvTQxqLzC",
        "colab_type": "code",
        "colab": {}
      },
      "cell_type": "code",
      "source": [
        ""
      ],
      "execution_count": 0,
      "outputs": []
    }
  ]
}