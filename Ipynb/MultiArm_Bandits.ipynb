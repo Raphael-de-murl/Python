{
  "nbformat": 4,
  "nbformat_minor": 0,
  "metadata": {
    "colab": {
      "name": "MultiArm_Bandits.ipynb",
      "version": "0.3.2",
      "provenance": [],
      "collapsed_sections": [],
      "include_colab_link": true
    },
    "kernelspec": {
      "name": "python3",
      "display_name": "Python 3"
    }
  },
  "cells": [
    {
      "cell_type": "markdown",
      "metadata": {
        "id": "view-in-github",
        "colab_type": "text"
      },
      "source": [
        "<a href=\"https://colab.research.google.com/github/Woobin-Seo/Python/blob/master/Ipynb/MultiArm_Bandits.ipynb\" target=\"_parent\"><img src=\"https://colab.research.google.com/assets/colab-badge.svg\" alt=\"Open In Colab\"/></a>"
      ]
    },
    {
      "metadata": {
        "id": "xnHeh6lGUwmy",
        "colab_type": "code",
        "colab": {}
      },
      "cell_type": "code",
      "source": [
        "import tensorflow as tf\n",
        "import numpy as np"
      ],
      "execution_count": 0,
      "outputs": []
    },
    {
      "metadata": {
        "id": "tX0wCxouUywK",
        "colab_type": "code",
        "colab": {}
      },
      "cell_type": "code",
      "source": [
        "bandits = [0.2, -0.5, -0.2, 0]\n",
        "num_bandits = len(bandits)"
      ],
      "execution_count": 0,
      "outputs": []
    },
    {
      "metadata": {
        "id": "HJKfdW5cXXnw",
        "colab_type": "code",
        "colab": {}
      },
      "cell_type": "code",
      "source": [
        "#!pip install tensorflow"
      ],
      "execution_count": 0,
      "outputs": []
    },
    {
      "metadata": {
        "id": "bdPLVI7rU0Mf",
        "colab_type": "code",
        "colab": {}
      },
      "cell_type": "code",
      "source": [
        "def pullBandit(bandit):\n",
        "  result = np.random.randn(1)\n",
        "  \n",
        "  if result > bandit:\n",
        "    return 1\n",
        "  else:\n",
        "    return -1"
      ],
      "execution_count": 0,
      "outputs": []
    },
    {
      "metadata": {
        "id": "Ebb_z-AYVXDN",
        "colab_type": "code",
        "colab": {}
      },
      "cell_type": "code",
      "source": [
        "tf.reset_default_graph()\n",
        "weights = tf.Variable(tf.ones([num_bandits]))\n",
        "chosen_action = tf.argmax(weights, 0)\n",
        "\n",
        "reward_holder = tf.placeholder(shape=[1], dtype=tf.float32)\n",
        "action_holder = tf.placeholder(shape=[1], dtype=tf.int32)\n",
        "\n",
        "responsible_weight = tf.slice(weights, action_holder, [1])\n",
        "loss = -(tf.log(responsible_weight) * reward_holder)\n",
        "optimizer = tf.train.GradientDescentOptimizer(learning_rate=0.001)\n",
        "update = optimizer.minimize(loss)"
      ],
      "execution_count": 0,
      "outputs": []
    },
    {
      "metadata": {
        "id": "Xa41P-JGZfIH",
        "colab_type": "text"
      },
      "cell_type": "markdown",
      "source": [
        "エージェントをトレーニングする"
      ]
    },
    {
      "metadata": {
        "id": "SfVIHgP3ZrGm",
        "colab_type": "code",
        "colab": {
          "base_uri": "https://localhost:8080/",
          "height": 374
        },
        "outputId": "4302e86c-ad34-4cc5-d81f-07fd8bf32707"
      },
      "cell_type": "code",
      "source": [
        "total_episodes = 1000\n",
        "total_reward = np.zeros(num_bandits)\n",
        "e = 0.1\n",
        "init = tf.global_variables_initializer()\n",
        "\n",
        "with tf.Session() as sess:\n",
        "  sess.run(init)\n",
        "  i = 0\n",
        "  \n",
        "  while i < total_episodes:\n",
        "    if np.random.rand(1) < e:\n",
        "      action = np.random.randint(num_bandits)\n",
        "    else:\n",
        "      action = sess.run(chosen_action)\n",
        "    \n",
        "    reward = pullBandit(bandits[action])\n",
        "    \n",
        "    _, resp, ww = sess.run([update, responsible_weight, weights], feed_dict = {reward_holder:[reward], action_holder:[action]})\n",
        "    \n",
        "    total_reward[action] += reward\n",
        "    \n",
        "    if i % 50 == 0:\n",
        "      print(\"リワード・報酬の一覧:\" + str(total_reward))\n",
        "    \n",
        "    i += 1\n",
        "    \n",
        "print(\"エージェントが考える最適なアームは、\" + str(np.argmax(ww) + 1) + \"番目のアームです。\")"
      ],
      "execution_count": 6,
      "outputs": [
        {
          "output_type": "stream",
          "text": [
            "リワード・報酬の一覧:[-1.  0.  0.  0.]\n",
            "リワード・報酬の一覧:[-2. 18.  1.  2.]\n",
            "リワード・報酬の一覧:[-1. 28.  3.  3.]\n",
            "リワード・報酬の一覧:[-1. 44.  3.  1.]\n",
            "リワード・報酬の一覧:[-1. 64.  2.  0.]\n",
            "リワード・報酬の一覧:[-1. 77.  2.  1.]\n",
            "リワード・報酬の一覧:[-2. 90.  3.  2.]\n",
            "リワード・報酬の一覧:[ -2. 112.   5.   2.]\n",
            "リワード・報酬の一覧:[ -2. 116.   7.   2.]\n",
            "リワード・報酬の一覧:[ -2. 134.   7.   2.]\n",
            "リワード・報酬の一覧:[  0. 154.   6.   1.]\n",
            "リワード・報酬の一覧:[  0. 171.   9.   1.]\n",
            "リワード・報酬の一覧:[ -3. 189.   9.   2.]\n",
            "リワード・報酬の一覧:[ -3. 210.  10.   2.]\n",
            "リワード・報酬の一覧:[ -3. 221.  11.   2.]\n",
            "リワード・報酬の一覧:[ -6. 241.  12.   2.]\n",
            "リワード・報酬の一覧:[ -7. 270.  12.   4.]\n",
            "リワード・報酬の一覧:[ -6. 290.  12.   5.]\n",
            "リワード・報酬の一覧:[ -6. 295.  13.   5.]\n",
            "リワード・報酬の一覧:[ -6. 317.  13.   5.]\n",
            "エージェントが考える最適なアームは、2番目のアームです。\n"
          ],
          "name": "stdout"
        }
      ]
    },
    {
      "metadata": {
        "id": "wdC8TXJMbOGi",
        "colab_type": "code",
        "colab": {}
      },
      "cell_type": "code",
      "source": [
        ""
      ],
      "execution_count": 0,
      "outputs": []
    }
  ]
}