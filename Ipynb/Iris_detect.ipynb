{
  "nbformat": 4,
  "nbformat_minor": 0,
  "metadata": {
    "colab": {
      "name": "Iris_detect.ipynb",
      "version": "0.3.2",
      "provenance": [],
      "include_colab_link": true
    },
    "kernelspec": {
      "name": "python3",
      "display_name": "Python 3"
    },
    "accelerator": "GPU"
  },
  "cells": [
    {
      "cell_type": "markdown",
      "metadata": {
        "id": "view-in-github",
        "colab_type": "text"
      },
      "source": [
        "<a href=\"https://colab.research.google.com/github/Woobin-Seo/Python/blob/master/Ipynb/Iris_detect.ipynb\" target=\"_parent\"><img src=\"https://colab.research.google.com/assets/colab-badge.svg\" alt=\"Open In Colab\"/></a>"
      ]
    },
    {
      "metadata": {
        "id": "JsyzW7gcvfKn",
        "colab_type": "code",
        "outputId": "67c533ca-b0f8-44c0-eb65-442bcb2cc38c",
        "colab": {
          "base_uri": "https://localhost:8080/",
          "height": 34
        }
      },
      "cell_type": "code",
      "source": [
        "print(\"hello Python\")"
      ],
      "execution_count": 0,
      "outputs": [
        {
          "output_type": "stream",
          "text": [
            "hello Python\n"
          ],
          "name": "stdout"
        }
      ]
    },
    {
      "metadata": {
        "id": "V8NZD0YHvxv3",
        "colab_type": "code",
        "outputId": "40cf8402-9cd8-4f45-8473-dc610d92724f",
        "colab": {
          "base_uri": "https://localhost:8080/",
          "height": 347
        }
      },
      "cell_type": "code",
      "source": [
        "import numpy as np\n",
        "import matplotlib .pyplot as plt\n",
        "\n",
        "x = np.arange(0, 10, 0.1)\n",
        "plt.plot(x)\n",
        "plt.show()"
      ],
      "execution_count": 0,
      "outputs": [
        {
          "output_type": "display_data",
          "data": {
            "image/png": "[encoded data removed]",
            "text/plain": [
              "<matplotlib.figure.Figure at 0x7fa962b13d68>"
            ]
          },
          "metadata": {
            "tags": []
          }
        }
      ]
    },
    {
      "metadata": {
        "id": "B-SpXwlIv8-T",
        "colab_type": "code",
        "outputId": "d74912dd-caab-4975-ee7d-6ee1e087f519",
        "colab": {
          "base_uri": "https://localhost:8080/",
          "height": 34
        }
      },
      "cell_type": "code",
      "source": [
        "import tensorflow as tf\n",
        "tf.test.gpu_device_name()"
      ],
      "execution_count": 0,
      "outputs": [
        {
          "output_type": "execute_result",
          "data": {
            "text/plain": [
              "'/device:GPU:0'"
            ]
          },
          "metadata": {
            "tags": []
          },
          "execution_count": 1
        }
      ]
    },
    {
      "metadata": {
        "id": "1AERmaYLwMza",
        "colab_type": "code",
        "colab": {}
      },
      "cell_type": "code",
      "source": [
        "!cat /proc/cpuinfo"
      ],
      "execution_count": 0,
      "outputs": []
    },
    {
      "metadata": {
        "id": "8UOZSOwewRo6",
        "colab_type": "code",
        "outputId": "2196d3f2-e119-4b1a-fa8e-d3866c2ca770",
        "colab": {
          "base_uri": "https://localhost:8080/",
          "height": 68
        }
      },
      "cell_type": "code",
      "source": [
        "from sklearn import datasets\n",
        "from sklearn import svm\n",
        "\n",
        "#Irisの測定データの読み込み\n",
        "iris = datasets.load_iris()\n",
        "clf = svm.LinearSVC()\n",
        "clf.fit(iris.data, iris.target)\n",
        "print(clf.predict([[1.4, 3.5, 5.1, 0.2], [6.5, 2.6, 4.4, 1.4], [5.9, 3.0, 5.2, 1.5]]))\n",
        "\n",
        "from sklearn.model_selection import train_test_split\n",
        "from sklearn.ensemble import RandomForestClassifier\n",
        "from sklearn import svm\n",
        "from sklearn.metrics import accuracy_score\n",
        "\n",
        "#データの読み込み\n",
        "iris = datasets.load_iris()\n",
        "x, y = iris.data, iris.target\n",
        "\n",
        "#トレーニングデータとテストデータに分ける\n",
        "x_train, x_test, y_train, y_test = train_test_split(x, y, random_state=1)\n",
        "\n",
        "#モデルの選択\n",
        "model = svm.LinearSVC()\n",
        "\n",
        "#学習\n",
        "model.fit(x_train, y_train)\n",
        "\n",
        "#テスト評価\n",
        "pred = model.predict(x_test)\n",
        "print(accuracy_score(y_test, pred))\n",
        "\n",
        "#学習済みモデルを使う\n",
        "print(model.predict([[1.4, 3.5, 5.1, 0.2]]))\n"
      ],
      "execution_count": 0,
      "outputs": [
        {
          "output_type": "stream",
          "text": [
            "[2 1 2]\n",
            "0.8947368421052632\n",
            "[2]\n"
          ],
          "name": "stdout"
        }
      ]
    }
  ]
}