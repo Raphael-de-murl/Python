{
  "nbformat": 4,
  "nbformat_minor": 0,
  "metadata": {
    "colab": {
      "name": "CNN-VGG16.ipynb",
      "version": "0.3.2",
      "provenance": [],
      "include_colab_link": true
    },
    "kernelspec": {
      "name": "python3",
      "display_name": "Python 3"
    }
  },
  "cells": [
    {
      "cell_type": "markdown",
      "metadata": {
        "id": "view-in-github",
        "colab_type": "text"
      },
      "source": [
        "<a href=\"https://colab.research.google.com/github/Woobin-Seo/Python/blob/master/Ipynb/CNN_VGG16.ipynb\" target=\"_parent\"><img src=\"https://colab.research.google.com/assets/colab-badge.svg\" alt=\"Open In Colab\"/></a>"
      ]
    },
    {
      "metadata": {
        "id": "pe7sgyxs0jOn",
        "colab_type": "code",
        "outputId": "58b60a20-4792-454b-9885-dff517c7eea0",
        "colab": {
          "base_uri": "https://localhost:8080/",
          "height": 187
        }
      },
      "cell_type": "code",
      "source": [
        "#必要なモジュールをインポート\n",
        "from keras.applications.vgg16 import VGG16, decode_predictions, preprocess_input\n",
        "from keras.preprocessing import image\n",
        "from PIL import Image\n",
        "\n",
        "import numpy as np\n",
        "import urllib.request as urllib\n",
        "\n",
        "\"\"\"\n",
        "filename : 判定したい画像ファイル\n",
        "size : 予測した結果を何懸案で表示させたいか（初期値10件）\n",
        "\"\"\"\n",
        "\n",
        "def predict(filename, size=5):\n",
        "  \n",
        "  filename = urllib.urlopen(filename) #入力画像をWebから取得\n",
        "  img = image.load_img(filename, target_size=(224, 224)) #画像を読み込み\n",
        "  x = image.img_to_array(img) #画像ファイルを数値に変換\n",
        "  x = np.expand_dims(x, axis=0) #次元を増やす\n",
        "  pred = model.predict(preprocess_input(x)) #一律に平均値を引いている処理\n",
        "  results = decode_predictions(pred, top=size)[0] #VGG16の1000クラスはdecode_predictions()で文字列に変換\n",
        "  return results\n",
        "\n",
        "# VGG16を使用\n",
        "model = VGG16(weights=\"imagenet\")\n",
        "\n",
        "# 犬の判定処理\n",
        "filename = \"https://aiacademy.jp/dataset/dog1.jpg\"\n",
        "\n",
        "results = predict(filename, 10)\n",
        "for result in results:\n",
        "  print(result)"
      ],
      "execution_count": 0,
      "outputs": [
        {
          "output_type": "stream",
          "text": [
            "('n02099601', 'golden_retriever', 0.7908421)\n",
            "('n02100735', 'English_setter', 0.029103126)\n",
            "('n02100877', 'Irish_setter', 0.020391973)\n",
            "('n02091831', 'Saluki', 0.018653732)\n",
            "('n02099712', 'Labrador_retriever', 0.015446857)\n",
            "('n02100583', 'vizsla', 0.013574257)\n",
            "('n02101006', 'Gordon_setter', 0.012824019)\n",
            "('n02087394', 'Rhodesian_ridgeback', 0.010691096)\n",
            "('n02104029', 'kuvasz', 0.008260383)\n",
            "('n02091635', 'otterhound', 0.007224161)\n"
          ],
          "name": "stdout"
        }
      ]
    },
    {
      "metadata": {
        "id": "klM8OBWE3DQH",
        "colab_type": "code",
        "colab": {}
      },
      "cell_type": "code",
      "source": [
        ""
      ],
      "execution_count": 0,
      "outputs": []
    }
  ]
}