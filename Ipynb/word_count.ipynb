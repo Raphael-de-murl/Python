{
  "nbformat": 4,
  "nbformat_minor": 0,
  "metadata": {
    "colab": {
      "name": "word_count.ipynb",
      "version": "0.3.2",
      "provenance": [],
      "include_colab_link": true
    },
    "kernelspec": {
      "name": "python3",
      "display_name": "Python 3"
    }
  },
  "cells": [
    {
      "cell_type": "markdown",
      "metadata": {
        "id": "view-in-github",
        "colab_type": "text"
      },
      "source": [
        "<a href=\"https://colab.research.google.com/github/Woobin-Seo/Python/blob/master/Ipynb/word_count.ipynb\" target=\"_parent\"><img src=\"https://colab.research.google.com/assets/colab-badge.svg\" alt=\"Open In Colab\"/></a>"
      ]
    },
    {
      "metadata": {
        "id": "O15_bLimquaU",
        "colab_type": "code",
        "colab": {}
      },
      "cell_type": "code",
      "source": [
        "from janome.tokenizer import Tokenizer\n",
        "import zipfile\n",
        "import os.path, urllib.request as request"
      ],
      "execution_count": 0,
      "outputs": []
    },
    {
      "metadata": {
        "id": "mz8pBoH6q1DS",
        "colab_type": "code",
        "colab": {}
      },
      "cell_type": "code",
      "source": [
        "# データファイルをダウンロードする\n",
        "\n",
        "url = \"https://www.aozora.gr.jp/cards/001399/files/49925_ruby_48352.zip\""
      ],
      "execution_count": 0,
      "outputs": []
    },
    {
      "metadata": {
        "id": "ig4FCRohr14t",
        "colab_type": "code",
        "colab": {}
      },
      "cell_type": "code",
      "source": [
        "localfile = \"49925_ruby_48352.zip\""
      ],
      "execution_count": 0,
      "outputs": []
    },
    {
      "metadata": {
        "id": "pbIhwQyOr9Kl",
        "colab_type": "code",
        "colab": {
          "base_uri": "https://localhost:8080/",
          "height": 34
        },
        "outputId": "b16d1392-dbba-41b9-a391-1bae7f8bfd1b"
      },
      "cell_type": "code",
      "source": [
        "if not os.path.exists(localfile):\n",
        "  print(\"ファイルをダウンロードします\")\n",
        "  request.urlretrieve(url, localfile)"
      ],
      "execution_count": 4,
      "outputs": [
        {
          "output_type": "stream",
          "text": [
            "ファイルをダウンロードします\n"
          ],
          "name": "stdout"
        }
      ]
    },
    {
      "metadata": {
        "id": "jKgrqsmWsWEu",
        "colab_type": "code",
        "colab": {}
      },
      "cell_type": "code",
      "source": [
        "zipfile = zipfile.ZipFile(localfile, 'r')"
      ],
      "execution_count": 0,
      "outputs": []
    },
    {
      "metadata": {
        "id": "Tz9siwWIsjSF",
        "colab_type": "code",
        "colab": {}
      },
      "cell_type": "code",
      "source": [
        "file = zipfile.open(\"kanashiki_joo.txt\", 'r')"
      ],
      "execution_count": 0,
      "outputs": []
    },
    {
      "metadata": {
        "id": "xzwKYJqNsyTT",
        "colab_type": "code",
        "colab": {}
      },
      "cell_type": "code",
      "source": [
        "bindata = file.read()"
      ],
      "execution_count": 0,
      "outputs": []
    },
    {
      "metadata": {
        "id": "m1k6CcRws2kF",
        "colab_type": "code",
        "colab": {}
      },
      "cell_type": "code",
      "source": [
        "textdata = bindata.decode('shift_jis')"
      ],
      "execution_count": 0,
      "outputs": []
    },
    {
      "metadata": {
        "id": "ZJw1p_tus-5b",
        "colab_type": "code",
        "colab": {}
      },
      "cell_type": "code",
      "source": [
        "t = Tokenizer()"
      ],
      "execution_count": 0,
      "outputs": []
    },
    {
      "metadata": {
        "id": "n_15wywqtA8b",
        "colab_type": "code",
        "colab": {}
      },
      "cell_type": "code",
      "source": [
        "worddic = {}"
      ],
      "execution_count": 0,
      "outputs": []
    },
    {
      "metadata": {
        "id": "geO9AZWQtD0D",
        "colab_type": "code",
        "colab": {}
      },
      "cell_type": "code",
      "source": [
        "lines = textdata.split(\"\\r\\n\")"
      ],
      "execution_count": 0,
      "outputs": []
    },
    {
      "metadata": {
        "id": "ssD-UkAItOKM",
        "colab_type": "code",
        "colab": {}
      },
      "cell_type": "code",
      "source": [
        "for line in lines:\n",
        "  malist = t.tokenize(line)\n",
        "  for w in malist:\n",
        "    word = w.surface\n",
        "    part = w.part_of_speech\n",
        "    \n",
        "    if part.find('名詞') < 0:\n",
        "      continue\n",
        "    if not word in worddic:\n",
        "      worddic[word] = 0\n",
        "    worddic[word] += 1\n",
        "      "
      ],
      "execution_count": 0,
      "outputs": []
    },
    {
      "metadata": {
        "id": "VKbkkMIJt8Vx",
        "colab_type": "code",
        "colab": {
          "base_uri": "https://localhost:8080/",
          "height": 867
        },
        "outputId": "eb933026-0e38-4ab8-c79a-73c3aa7079ef"
      },
      "cell_type": "code",
      "source": [
        "keys = sorted(worddic.items(), key = lambda x:x[1], reverse=True)\n",
        "\n",
        "for word, cnt in keys[:50]:\n",
        "  print(\"{0}({1})\\n\".format(word, cnt), end = \"\")"
      ],
      "execution_count": 13,
      "outputs": [
        {
          "output_type": "stream",
          "text": [
            "人(29)\n",
            "女(22)\n",
            "二(21)\n",
            "コンラ(18)\n",
            "彼(17)\n",
            "私(17)\n",
            "時(15)\n",
            "一(13)\n",
            "ウルリック(13)\n",
            "顔(13)\n",
            "の(12)\n",
            "槍(11)\n",
            "彼女(11)\n",
            "恋(11)\n",
            "上(10)\n",
            "眼(10)\n",
            "よう(10)\n",
            "中(9)\n",
            "それ(9)\n",
            "スヴェン(9)\n",
            "女王(8)\n",
            "歌(8)\n",
            "星(8)\n",
            "スカァア(8)\n",
            "手(7)\n",
            "本(7)\n",
            "彼等(7)\n",
            "海(7)\n",
            "檣(6)\n",
            "琴(6)\n",
            "死(6)\n",
            "ファルカ(6)\n",
            "ため(6)\n",
            "こと(6)\n",
            "たち(6)\n",
            "字(5)\n",
            "船(5)\n",
            "あいだ(5)\n",
            "髪(5)\n",
            "前(5)\n",
            "あなた(5)\n",
            "はげ(4)\n",
            "血(4)\n",
            "十(4)\n",
            "月(4)\n",
            "息(4)\n",
            "下(4)\n",
            "胸(4)\n",
            "静か(4)\n",
            "火(4)\n"
          ],
          "name": "stdout"
        }
      ]
    },
    {
      "metadata": {
        "id": "WemkpKITufpp",
        "colab_type": "code",
        "colab": {}
      },
      "cell_type": "code",
      "source": [
        ""
      ],
      "execution_count": 0,
      "outputs": []
    }
  ]
}