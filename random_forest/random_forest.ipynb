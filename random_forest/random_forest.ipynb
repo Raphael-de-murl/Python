{
  "nbformat": 4,
  "nbformat_minor": 0,
  "metadata": {
    "colab": {
      "name": "random_forest.ipynb",
      "version": "0.3.2",
      "provenance": [],
      "include_colab_link": true
    },
    "kernelspec": {
      "display_name": "Python 3",
      "language": "python",
      "name": "python3"
    }
  },
  "cells": [
    {
      "cell_type": "markdown",
      "metadata": {
        "id": "view-in-github",
        "colab_type": "text"
      },
      "source": [
        "<a href=\"https://colab.research.google.com/github/Woobin-Seo/Python/blob/master/random_forest/random_forest.ipynb\" target=\"_parent\"><img src=\"https://colab.research.google.com/assets/colab-badge.svg\" alt=\"Open In Colab\"/></a>"
      ]
    },
    {
      "metadata": {
        "id": "uqOh4wCnkxuj",
        "colab_type": "code",
        "colab": {}
      },
      "cell_type": "code",
      "source": [
        "import csv\n",
        "import pydotplus\n",
        "import numpy as np\n",
        "import pandas as pd\n",
        "import matplotlib.pyplot as plt\n",
        "\n",
        "from pandas import DataFrame\n",
        "from sklearn import tree\n",
        "from sklearn import metrics\n",
        "from sklearn.datasets import load_boston\n",
        "from sklearn.ensemble import RandomForestClassifier\n",
        "from sklearn.ensemble import RandomForestRegressor\n",
        "from sklearn.externals.six import StringIO\n",
        "from sklearn.metrics import r2_score\n",
        "from sklearn.metrics import mean_squared_error\n",
        "from sklearn.preprocessing import LabelEncoder\n",
        "from sklearn.preprocessing import OneHotEncoder\n",
        "from sklearn.model_selection import train_test_split"
      ],
      "execution_count": 0,
      "outputs": []
    },
    {
      "metadata": {
        "id": "iP_cZi04kxuo",
        "colab_type": "code",
        "colab": {},
        "outputId": "0aaec415-0c25-4b1e-931b-ff709b4c26ad"
      },
      "cell_type": "code",
      "source": [
        "with open('./titanic.csv', 'r')as csvfile:\n",
        "    titanic_reader = csv.reader(csvfile, delimiter=',', quotechar='\"')\n",
        "    \n",
        "    #特徴量の名前が書かれたHeaderを読み取る\n",
        "    csv_header = next(titanic_reader)\n",
        "    feature_names = np.array(csv_header)\n",
        "    \n",
        "    #データと正解ラベルを読み取る\n",
        "    titanic_x, titanic_y = [],[]\n",
        "    \n",
        "    for row in titanic_reader:\n",
        "        titanic_x.append(row)\n",
        "        titanic_y.append(row[1]) #正解ラベルは2列目の\"survived\"\n",
        "        \n",
        "    titanic_x = np.array(titanic_x) #型をリストからnumpy.ndarrayにする\n",
        "    titanic_y = np.array(titanic_y) #型をリストからnumpy.ndarrayにする\n",
        "\n",
        "print(feature_names)\n",
        "print(titanic_x[0], titanic_y[0])"
      ],
      "execution_count": 0,
      "outputs": [
        {
          "output_type": "stream",
          "text": [
            "['PassengerId' 'Survived' 'Pclass' 'Name' 'Sex' 'Age' 'SibSp' 'Parch'\n",
            " 'Ticket' 'Fare' 'Cabin' 'Embarked']\n",
            "['1' '0' '3' 'Braund, Mr. Owen Harris' 'male' '22' '1' '0' 'A/5 21171'\n",
            " '7.25' '' 'S'] 0\n"
          ],
          "name": "stdout"
        }
      ]
    },
    {
      "metadata": {
        "id": "NMYkP66Skxuu",
        "colab_type": "code",
        "colab": {}
      },
      "cell_type": "code",
      "source": [
        "#class(2), age(5), sex(4)を残す\n",
        "titanic_x = titanic_x[:, [2,5,4]]\n",
        "feature_names = feature_names[[2, 5, 4]]"
      ],
      "execution_count": 0,
      "outputs": []
    },
    {
      "metadata": {
        "id": "f7UzQm7Nkxuy",
        "colab_type": "code",
        "colab": {},
        "outputId": "d84bae80-c11f-4e33-f592-80d53b07e223"
      },
      "cell_type": "code",
      "source": [
        "print(feature_names)\n",
        "print(titanic_x[2], titanic_y[2])"
      ],
      "execution_count": 0,
      "outputs": [
        {
          "output_type": "stream",
          "text": [
            "['Pclass' 'Age' 'Sex']\n",
            "['3' '26' 'female'] 1\n"
          ],
          "name": "stdout"
        }
      ]
    },
    {
      "metadata": {
        "id": "AxncifPTkxu2",
        "colab_type": "code",
        "colab": {}
      },
      "cell_type": "code",
      "source": [
        "#年齢の欠損値を平均値で埋める\n",
        "ages = titanic_x[:,1]"
      ],
      "execution_count": 0,
      "outputs": []
    },
    {
      "metadata": {
        "id": "jlXiGuickxu-",
        "colab_type": "code",
        "colab": {}
      },
      "cell_type": "code",
      "source": [
        "#NA以外のageの平均値を計算する\n",
        "mean_age = np.mean(titanic_x[ages != '', 1].astype(float))"
      ],
      "execution_count": 0,
      "outputs": []
    },
    {
      "metadata": {
        "id": "xWNsE0-RkxvC",
        "colab_type": "code",
        "colab": {}
      },
      "cell_type": "code",
      "source": [
        "#ageがNAのものを平均値に置き換える\n",
        "titanic_x[titanic_x[:, 1] == '', 1] = mean_age"
      ],
      "execution_count": 0,
      "outputs": []
    },
    {
      "metadata": {
        "id": "sVd72R3ikxvI",
        "colab_type": "text"
      },
      "cell_type": "markdown",
      "source": [
        "## sexのラベルのデータをEncoding : female→0、male→1"
      ]
    },
    {
      "metadata": {
        "id": "-wBhMJmikxvJ",
        "colab_type": "code",
        "colab": {},
        "outputId": "65be8852-2a77-42cb-9767-357d418a7616"
      },
      "cell_type": "code",
      "source": [
        "enc = LabelEncoder()\n",
        "label_encoder = enc.fit(titanic_x[:,2])\n",
        "\n",
        "print('Categorical classes:', label_encoder.classes_)"
      ],
      "execution_count": 0,
      "outputs": [
        {
          "output_type": "stream",
          "text": [
            "Categorical classes: ['female' 'male']\n"
          ],
          "name": "stdout"
        }
      ]
    },
    {
      "metadata": {
        "id": "BH6sU5tYkxvR",
        "colab_type": "code",
        "colab": {},
        "outputId": "5d9ab23d-3640-4c31-efaf-091a19fc8345"
      },
      "cell_type": "code",
      "source": [
        "integer_classes = label_encoder.transform(label_encoder.classes_)\n",
        "\n",
        "print('integer classes:', integer_classes)"
      ],
      "execution_count": 0,
      "outputs": [
        {
          "output_type": "stream",
          "text": [
            "integer classes: [0 1]\n"
          ],
          "name": "stdout"
        }
      ]
    },
    {
      "metadata": {
        "id": "vzd1pAF7kxvX",
        "colab_type": "code",
        "colab": {}
      },
      "cell_type": "code",
      "source": [
        "t = label_encoder.transform(titanic_x[:, 2])\n",
        "titanic_x[:, 2] = t"
      ],
      "execution_count": 0,
      "outputs": []
    },
    {
      "metadata": {
        "id": "9dF5Qjmjkxvb",
        "colab_type": "code",
        "colab": {},
        "outputId": "35752573-8481-4134-ddf9-728ba3fb140e"
      },
      "cell_type": "code",
      "source": [
        "print(feature_names)\n",
        "print(titanic_x[2], titanic_y[2])"
      ],
      "execution_count": 0,
      "outputs": [
        {
          "output_type": "stream",
          "text": [
            "['Pclass' 'Age' 'Sex']\n",
            "['3' '26' '0'] 1\n"
          ],
          "name": "stdout"
        }
      ]
    },
    {
      "metadata": {
        "id": "Cwftk8zLkxve",
        "colab_type": "text"
      },
      "cell_type": "markdown",
      "source": [
        "## pclassのラベルのデータをEncoding"
      ]
    },
    {
      "metadata": {
        "id": "Z89PdmS-kxvg",
        "colab_type": "code",
        "colab": {},
        "outputId": "657672f6-0f70-49d6-91a9-5e24048fb5bd"
      },
      "cell_type": "code",
      "source": [
        "enc = LabelEncoder()\n",
        "label_encoder = enc.fit(titanic_x[:, 0])\n",
        "\n",
        "print('Categorical classes:', label_encoder.classes_)"
      ],
      "execution_count": 0,
      "outputs": [
        {
          "output_type": "stream",
          "text": [
            "Categorical classes: ['1' '2' '3']\n"
          ],
          "name": "stdout"
        }
      ]
    },
    {
      "metadata": {
        "id": "WPe7biu5kxvk",
        "colab_type": "code",
        "colab": {},
        "outputId": "21d9c309-94ba-4c49-a1a5-bada7a3f87a4"
      },
      "cell_type": "code",
      "source": [
        "integer_classes = label_encoder.transform(label_encoder.classes_).reshape(3, 1)\n",
        "\n",
        "print('Integer classes:', integer_classes)"
      ],
      "execution_count": 0,
      "outputs": [
        {
          "output_type": "stream",
          "text": [
            "Integer classes: [[0]\n",
            " [1]\n",
            " [2]]\n"
          ],
          "name": "stdout"
        }
      ]
    },
    {
      "metadata": {
        "id": "AKCwH0v6kxvo",
        "colab_type": "code",
        "colab": {},
        "outputId": "7d93bb30-407e-4ed1-b11d-2e21e1686b64"
      },
      "cell_type": "code",
      "source": [
        "enc = OneHotEncoder()\n",
        "one_hot_encoder = enc.fit(integer_classes)"
      ],
      "execution_count": 0,
      "outputs": [
        {
          "output_type": "stream",
          "text": [
            "C:\\Users\\woobi\\Anaconda3\\envs\\jupyter100\\lib\\site-packages\\sklearn\\preprocessing\\_encoders.py:368: FutureWarning: The handling of integer data will change in version 0.22. Currently, the categories are determined based on the range [0, max(values)], while in the future they will be determined based on the unique values.\n",
            "If you want the future behaviour and silence this warning, you can specify \"categories='auto'\".\n",
            "In case you used a LabelEncoder before this OneHotEncoder to convert the categories to integers, then you can now use the OneHotEncoder directly.\n",
            "  warnings.warn(msg, FutureWarning)\n"
          ],
          "name": "stderr"
        }
      ]
    },
    {
      "metadata": {
        "id": "eBQ7Fv1Lkxvv",
        "colab_type": "code",
        "colab": {}
      },
      "cell_type": "code",
      "source": [
        "#最初に、Label Encoderを使ってpclassを0~2に直す\n",
        "num_of_rows = titanic_x.shape[0]\n",
        "t = label_encoder.transform(titanic_x[:, 0]).reshape(num_of_rows, 1)"
      ],
      "execution_count": 0,
      "outputs": []
    },
    {
      "metadata": {
        "id": "GaFrBzL0kxv1",
        "colab_type": "code",
        "colab": {}
      },
      "cell_type": "code",
      "source": [
        "#次に、OneHotEncoderを使ってデータを1,0に変換\n",
        "new_features = one_hot_encoder.transform(t)"
      ],
      "execution_count": 0,
      "outputs": []
    },
    {
      "metadata": {
        "id": "ZmLKhvr9kxv8",
        "colab_type": "code",
        "colab": {}
      },
      "cell_type": "code",
      "source": [
        "#1,0に直してデータを統合する\n",
        "titanic_x =np.concatenate([titanic_x, new_features.toarray()], axis=1)"
      ],
      "execution_count": 0,
      "outputs": []
    },
    {
      "metadata": {
        "id": "rWKLQkN9kxwG",
        "colab_type": "code",
        "colab": {}
      },
      "cell_type": "code",
      "source": [
        "#OneHotEncoderをする前にpclassのデータを削除する\n",
        "titanic_x = np.delete(titanic_x, [0], 1)"
      ],
      "execution_count": 0,
      "outputs": []
    },
    {
      "metadata": {
        "id": "gdprEehBkxwM",
        "colab_type": "code",
        "colab": {}
      },
      "cell_type": "code",
      "source": [
        "#特徴量の名前を更新する\n",
        "feature_names = ['age', 'sex', 'first class', 'second class', 'third class']"
      ],
      "execution_count": 0,
      "outputs": []
    },
    {
      "metadata": {
        "id": "wC4dynDMkxwO",
        "colab_type": "code",
        "colab": {}
      },
      "cell_type": "code",
      "source": [
        "#数値を変換\n",
        "titanic_x = titanic_x.astype(float)\n",
        "titanic_y = titanic_y.astype(float)"
      ],
      "execution_count": 0,
      "outputs": []
    },
    {
      "metadata": {
        "id": "oVsAe14GkxwR",
        "colab_type": "code",
        "colab": {},
        "outputId": "7d4523f7-bb8f-42dc-ab29-b8f3713c8ea3"
      },
      "cell_type": "code",
      "source": [
        "print(feature_names)\n",
        "print(titanic_x[0], titanic_y[0])"
      ],
      "execution_count": 0,
      "outputs": [
        {
          "output_type": "stream",
          "text": [
            "['age', 'sex', 'first class', 'second class', 'third class']\n",
            "[22.  1.  0.  0.  1.] 0.0\n"
          ],
          "name": "stdout"
        }
      ]
    },
    {
      "metadata": {
        "id": "OVj2nbJRkxwW",
        "colab_type": "code",
        "colab": {}
      },
      "cell_type": "code",
      "source": [
        "x_train, x_test, y_train, y_test = train_test_split(titanic_x, titanic_y, test_size=0.25, random_state=0)"
      ],
      "execution_count": 0,
      "outputs": []
    },
    {
      "metadata": {
        "id": "cKR4zu1qkxwY",
        "colab_type": "code",
        "colab": {}
      },
      "cell_type": "code",
      "source": [
        "def measure_performance(x, y, clf, show_accuracy=True, show_classification_report=True,\n",
        "                       show_confussion_matrix=True):\n",
        "    y_pred=clf.predict(x)\n",
        "    \n",
        "    if show_accuracy:\n",
        "        print(\"Accuracy:{0:.3f}\".format(metrics.accuracy_score(y, y_pred)), \"\\n\")\n",
        "    \n",
        "    if show_classification_report:\n",
        "        print(\"Classification report\")\n",
        "        print(metrics.classification_report(y, y_pred), \"\\n\")\n",
        "    \n",
        "    if show_confussion_matrix:\n",
        "        print(\"Confussion matrix\")\n",
        "        print(metrics.confusion_matrix(y, y_pred), \"\\n\")"
      ],
      "execution_count": 0,
      "outputs": []
    },
    {
      "metadata": {
        "id": "VZB-lGMakxwc",
        "colab_type": "code",
        "colab": {}
      },
      "cell_type": "code",
      "source": [
        "clf = tree.DecisionTreeClassifier(criterion='entropy', max_depth=3, min_samples_leaf=5)\n",
        "clf = clf.fit(x_train, y_train)"
      ],
      "execution_count": 0,
      "outputs": []
    },
    {
      "metadata": {
        "id": "dw2RdJcWkxwh",
        "colab_type": "code",
        "colab": {}
      },
      "cell_type": "code",
      "source": [
        "dot_data = StringIO()\n",
        "tree.export_graphviz(clf, out_file=dot_data, feature_names=['Age', 'Sex', '1st_class', '2nd_class', '3rd_class'])\n",
        "graph = pydotplus.graph_from_dot_data(dot_data.getvalue())\n",
        "# graph.write_pdf(\"tree.pdf\")"
      ],
      "execution_count": 0,
      "outputs": []
    },
    {
      "metadata": {
        "id": "IjX_CF67kxwk",
        "colab_type": "code",
        "colab": {},
        "outputId": "04594d09-92b8-4c3f-fe29-4858c4bec537"
      },
      "cell_type": "code",
      "source": [
        "#決定キーモデルの評価\n",
        "measure_performance(x_train, y_train, clf)"
      ],
      "execution_count": 0,
      "outputs": [
        {
          "output_type": "stream",
          "text": [
            "Accuracy:0.816 \n",
            "\n",
            "Classification report\n",
            "              precision    recall  f1-score   support\n",
            "\n",
            "         0.0       0.83      0.88      0.85       410\n",
            "         1.0       0.79      0.72      0.75       258\n",
            "\n",
            "   micro avg       0.82      0.82      0.82       668\n",
            "   macro avg       0.81      0.80      0.80       668\n",
            "weighted avg       0.81      0.82      0.81       668\n",
            " \n",
            "\n",
            "Confussion matrix\n",
            "[[360  50]\n",
            " [ 73 185]] \n",
            "\n"
          ],
          "name": "stdout"
        }
      ]
    },
    {
      "metadata": {
        "id": "LZi2o4Hlkxwu",
        "colab_type": "text"
      },
      "cell_type": "markdown",
      "source": [
        "# ======= 回帰 ======="
      ]
    },
    {
      "metadata": {
        "id": "KWuENxHukxwv",
        "colab_type": "code",
        "colab": {}
      },
      "cell_type": "code",
      "source": [
        "#データの読み込み\n",
        "boston = load_boston()\n",
        "df = DataFrame(boston.data, columns=boston.feature_names)\n",
        "df['MEDV'] = np.array(boston.target)"
      ],
      "execution_count": 0,
      "outputs": []
    },
    {
      "metadata": {
        "id": "AoCTJTQokxw2",
        "colab_type": "code",
        "colab": {}
      },
      "cell_type": "code",
      "source": [
        "#説明変数及び目的変数\n",
        "X = df.iloc[:, :-1].values\n",
        "y = df.loc[:, 'MEDV'].values"
      ],
      "execution_count": 0,
      "outputs": []
    },
    {
      "metadata": {
        "id": "ylJB9mnfkxw8",
        "colab_type": "code",
        "colab": {}
      },
      "cell_type": "code",
      "source": [
        "#学習用、検証用データに分割\n",
        "(X_train, X_test, y_train, y_test) = train_test_split(X, y, test_size=0.3, random_state=0)"
      ],
      "execution_count": 0,
      "outputs": []
    },
    {
      "metadata": {
        "id": "xKUpniWwkxxD",
        "colab_type": "code",
        "colab": {},
        "outputId": "31f68fbc-bec2-4a5f-c734-aad90b763b34"
      },
      "cell_type": "code",
      "source": [
        "#モデルの構築\n",
        "forest = RandomForestRegressor()\n",
        "forest.fit(X_train, y_train)"
      ],
      "execution_count": 0,
      "outputs": [
        {
          "output_type": "stream",
          "text": [
            "C:\\Users\\woobi\\Anaconda3\\envs\\jupyter100\\lib\\site-packages\\sklearn\\ensemble\\forest.py:246: FutureWarning: The default value of n_estimators will change from 10 in version 0.20 to 100 in 0.22.\n",
            "  \"10 in version 0.20 to 100 in 0.22.\", FutureWarning)\n"
          ],
          "name": "stderr"
        },
        {
          "output_type": "execute_result",
          "data": {
            "text/plain": [
              "RandomForestRegressor(bootstrap=True, criterion='mse', max_depth=None,\n",
              "           max_features='auto', max_leaf_nodes=None,\n",
              "           min_impurity_decrease=0.0, min_impurity_split=None,\n",
              "           min_samples_leaf=1, min_samples_split=2,\n",
              "           min_weight_fraction_leaf=0.0, n_estimators=10, n_jobs=None,\n",
              "           oob_score=False, random_state=None, verbose=0, warm_start=False)"
            ]
          },
          "metadata": {
            "tags": []
          },
          "execution_count": 30
        }
      ]
    },
    {
      "metadata": {
        "id": "rB1WIY4gkxxJ",
        "colab_type": "code",
        "colab": {}
      },
      "cell_type": "code",
      "source": [
        "#予測値を計算\n",
        "y_train_pred = forest.predict(X_train)\n",
        "y_test_pred = forest.predict(X_test)"
      ],
      "execution_count": 0,
      "outputs": []
    },
    {
      "metadata": {
        "id": "7-sWnMG2kxxM",
        "colab_type": "code",
        "colab": {},
        "outputId": "0e1bf07e-7dfb-4fb6-d4da-b370a7973764"
      },
      "cell_type": "code",
      "source": [
        "#MSEの計算\n",
        "print('MSE train : %.3f, test : %3f' % (mean_squared_error(y_train, y_train_pred),\n",
        "                                       mean_squared_error(y_test, y_test_pred)))"
      ],
      "execution_count": 0,
      "outputs": [
        {
          "output_type": "stream",
          "text": [
            "MSE train : 1.969, test : 16.849144\n"
          ],
          "name": "stdout"
        }
      ]
    },
    {
      "metadata": {
        "id": "DlyK5LLxkxxS",
        "colab_type": "code",
        "colab": {},
        "outputId": "23ee70a6-2a46-4bb2-d52b-6b03400bca7b"
      },
      "cell_type": "code",
      "source": [
        "#R^2の計算\n",
        "print('MSE train : %.3f, test : %.3f' % (r2_score(y_train, y_train_pred), \n",
        "                                         r2_score(y_test, y_test_pred)))"
      ],
      "execution_count": 0,
      "outputs": [
        {
          "output_type": "stream",
          "text": [
            "MSE train : 0.977, test : 0.798\n"
          ],
          "name": "stdout"
        }
      ]
    },
    {
      "metadata": {
        "id": "Yx3aL5JIkxxV",
        "colab_type": "code",
        "colab": {},
        "outputId": "5ac323a8-942d-43e5-8883-a51f2161a64d"
      },
      "cell_type": "code",
      "source": [
        "# 残差プロット\n",
        "# %matplotlib inline\n",
        "plt.figure(figsize = (10, 7))\n",
        "plt.scatter(y_train_pred, y_train_pred - y_train, c='green', marker='o',\n",
        "           s=35, alpha=0.5, label='Training data')\n",
        "plt.scatter(y_test_pred, y_test_pred - y_test, c='blue', marker='s',\n",
        "           s=35, alpha=0.7, label='Test data')\n",
        "plt.xlabel('Predicted values')\n",
        "plt.ylabel('Residuals')\n",
        "plt.legend(loc='upper left')\n",
        "plt.hlines(y=0, xmin=-10, xmax=50, lw=2, color='red')\n",
        "plt.xlim([-10, 50])\n",
        "plt.show()"
      ],
      "execution_count": 0,
      "outputs": [
        {
          "output_type": "display_data",
          "data": {
            "image/png": "[encoded data removed]",
            "text/plain": [
              "<Figure size 720x504 with 1 Axes>"
            ]
          },
          "metadata": {
            "tags": [],
            "needs_background": "light"
          }
        }
      ]
    },
    {
      "metadata": {
        "id": "Ln7RRtb9kxxY",
        "colab_type": "code",
        "colab": {}
      },
      "cell_type": "code",
      "source": [
        ""
      ],
      "execution_count": 0,
      "outputs": []
    }
  ]
}