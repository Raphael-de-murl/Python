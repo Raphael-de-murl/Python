{
  "nbformat": 4,
  "nbformat_minor": 0,
  "metadata": {
    "colab": {
      "name": "random_forest_regressor.ipynb",
      "version": "0.3.2",
      "provenance": [],
      "include_colab_link": true
    },
    "kernelspec": {
      "display_name": "Python 3",
      "language": "python",
      "name": "python3"
    }
  },
  "cells": [
    {
      "cell_type": "markdown",
      "metadata": {
        "id": "view-in-github",
        "colab_type": "text"
      },
      "source": [
        "<a href=\"https://colab.research.google.com/github/Woobin-Seo/Python/blob/master/random_forest/random_forest_regressor.ipynb\" target=\"_parent\"><img src=\"https://colab.research.google.com/assets/colab-badge.svg\" alt=\"Open In Colab\"/></a>"
      ]
    },
    {
      "metadata": {
        "id": "tCrYEci1SH26",
        "colab_type": "code",
        "colab": {}
      },
      "cell_type": "code",
      "source": [
        "# 必要なライブラリのインポート\n",
        "import numpy as np\n",
        "import pandas as pd\n",
        "import matplotlib.pyplot as plt\n",
        "\n",
        "from pandas import DataFrame\n",
        "from sklearn.datasets import load_boston\n",
        "from sklearn.model_selection import train_test_split\n",
        "from sklearn.ensemble import RandomForestRegressor"
      ],
      "execution_count": 0,
      "outputs": []
    },
    {
      "metadata": {
        "id": "WBt2jT5bSH3A",
        "colab_type": "code",
        "colab": {}
      },
      "cell_type": "code",
      "source": [
        "# データの読み込み\n",
        "boston = load_boston()\n",
        "df = DataFrame(boston.data, columns = boston.feature_names)\n",
        "df['MEDV'] = np.array(boston.target)"
      ],
      "execution_count": 0,
      "outputs": []
    },
    {
      "metadata": {
        "id": "ReAVuHwPSH3D",
        "colab_type": "code",
        "colab": {}
      },
      "cell_type": "code",
      "source": [
        "# 説明変数及び目的変数\n",
        "X = df.iloc[:, :-1].values\n",
        "y = df.loc[:, 'MEDV'].values"
      ],
      "execution_count": 0,
      "outputs": []
    },
    {
      "metadata": {
        "id": "bJdHNYYnSH3H",
        "colab_type": "code",
        "colab": {}
      },
      "cell_type": "code",
      "source": [
        "# 学習用、検証用データに分割\n",
        "(X_train, X_test, y_train, y_test) = train_test_split(X, y, test_size=0.3, random_state=0)"
      ],
      "execution_count": 0,
      "outputs": []
    },
    {
      "metadata": {
        "id": "8H2M5J9xSH3K",
        "colab_type": "code",
        "colab": {
          "base_uri": "https://localhost:8080/",
          "height": 173
        },
        "outputId": "06b85dcd-af1d-4640-a769-677dcbcff2e1"
      },
      "cell_type": "code",
      "source": [
        "#モデル構築\n",
        "forest = RandomForestRegressor()\n",
        "forest.fit(X_train, y_train)"
      ],
      "execution_count": 5,
      "outputs": [
        {
          "output_type": "stream",
          "text": [
            "/usr/local/lib/python3.6/dist-packages/sklearn/ensemble/forest.py:246: FutureWarning: The default value of n_estimators will change from 10 in version 0.20 to 100 in 0.22.\n",
            "  \"10 in version 0.20 to 100 in 0.22.\", FutureWarning)\n"
          ],
          "name": "stderr"
        },
        {
          "output_type": "execute_result",
          "data": {
            "text/plain": [
              "RandomForestRegressor(bootstrap=True, criterion='mse', max_depth=None,\n",
              "           max_features='auto', max_leaf_nodes=None,\n",
              "           min_impurity_decrease=0.0, min_impurity_split=None,\n",
              "           min_samples_leaf=1, min_samples_split=2,\n",
              "           min_weight_fraction_leaf=0.0, n_estimators=10, n_jobs=None,\n",
              "           oob_score=False, random_state=None, verbose=0, warm_start=False)"
            ]
          },
          "metadata": {
            "tags": []
          },
          "execution_count": 5
        }
      ]
    },
    {
      "metadata": {
        "id": "UXnkjtE6SH3R",
        "colab_type": "code",
        "colab": {}
      },
      "cell_type": "code",
      "source": [
        "#予測値を計算\n",
        "y_train_pred = forest.predict(X_train)\n",
        "y_test_pred = forest.predict(X_test)"
      ],
      "execution_count": 0,
      "outputs": []
    },
    {
      "metadata": {
        "id": "nfkQHOyISH3W",
        "colab_type": "code",
        "colab": {}
      },
      "cell_type": "code",
      "source": [
        "#MSEの計算\n",
        "from sklearn.metrics import mean_squared_error"
      ],
      "execution_count": 0,
      "outputs": []
    },
    {
      "metadata": {
        "id": "J96826TrSH3d",
        "colab_type": "code",
        "colab": {
          "base_uri": "https://localhost:8080/",
          "height": 34
        },
        "outputId": "99659c90-04e8-4dfb-ed99-94a6d3731919"
      },
      "cell_type": "code",
      "source": [
        "print('MSE train : %.3f, test : %.3f' % (mean_squared_error(y_train, y_train_pred), \n",
        "                                         mean_squared_error(y_test, y_test_pred)))"
      ],
      "execution_count": 8,
      "outputs": [
        {
          "output_type": "stream",
          "text": [
            "MSE train : 1.779, test : 13.531\n"
          ],
          "name": "stdout"
        }
      ]
    },
    {
      "metadata": {
        "id": "gKm2dAeRSH3o",
        "colab_type": "code",
        "colab": {}
      },
      "cell_type": "code",
      "source": [
        "#R^2の計算\n",
        "from sklearn.metrics import r2_score"
      ],
      "execution_count": 0,
      "outputs": []
    },
    {
      "metadata": {
        "id": "lgcanA4gSH3s",
        "colab_type": "code",
        "colab": {
          "base_uri": "https://localhost:8080/",
          "height": 34
        },
        "outputId": "e5fae570-d857-4267-99c6-89070fd1239b"
      },
      "cell_type": "code",
      "source": [
        "print('MSE train : %.3f, test : %.3f' % (r2_score(y_train, y_train_pred), \n",
        "                                         r2_score(y_test, y_test_pred)))"
      ],
      "execution_count": 10,
      "outputs": [
        {
          "output_type": "stream",
          "text": [
            "MSE train : 0.979, test : 0.838\n"
          ],
          "name": "stdout"
        }
      ]
    },
    {
      "metadata": {
        "id": "RbY9UkjJSH3w",
        "colab_type": "code",
        "colab": {
          "base_uri": "https://localhost:8080/",
          "height": 442
        },
        "outputId": "a8224e14-255f-45f0-9e70-feda27376fca"
      },
      "cell_type": "code",
      "source": [
        "#残差プロット\n",
        "# matplotlib inline\n",
        "plt.figure(figsize = (10, 7))\n",
        "plt.scatter(y_train_pred, y_train_pred - y_train, c='green', marker='o',\n",
        "           s=35, alpha=0.5, label='Training data')\n",
        "plt.scatter(y_test_pred, y_test_pred - y_test, c='blue', marker='s',\n",
        "           s=35, alpha=0.7, label = 'Test data')\n",
        "plt.xlabel('Predicted values')\n",
        "plt.ylabel('Residuals')\n",
        "plt.legend(loc='upper left')\n",
        "plt.hlines(y=0, xmin=-10, xmax=50, lw=2, color='red')\n",
        "plt.xlim([-10, 50])\n",
        "plt.show()"
      ],
      "execution_count": 11,
      "outputs": [
        {
          "output_type": "display_data",
          "data": {
            "image/png": "[encoded data removed]",
            "text/plain": [
              "<matplotlib.figure.Figure at 0x7f3b8abd7d30>"
            ]
          },
          "metadata": {
            "tags": []
          }
        }
      ]
    }
  ]
}