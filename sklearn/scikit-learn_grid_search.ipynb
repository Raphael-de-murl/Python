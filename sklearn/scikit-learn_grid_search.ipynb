{
 "cells": [
  {
   "cell_type": "code",
   "execution_count": 1,
   "metadata": {},
   "outputs": [],
   "source": [
    "import numpy as np\n",
    "\n",
    "import matplotlib.pyplot as plt\n",
    "%matplotlib inline"
   ]
  },
  {
   "cell_type": "code",
   "execution_count": 2,
   "metadata": {},
   "outputs": [],
   "source": [
    "from sklearn.datasets import load_breast_cancer\n",
    "data = load_breast_cancer()\n",
    "X = data.data\n",
    "y = data.target"
   ]
  },
  {
   "cell_type": "code",
   "execution_count": 3,
   "metadata": {},
   "outputs": [],
   "source": [
    "from sklearn.model_selection import ShuffleSplit\n",
    "\n",
    "ss = ShuffleSplit(n_splits=1,\n",
    "                  train_size=0.8,\n",
    "                  test_size=0.2,\n",
    "                  random_state=0)\n",
    "\n",
    "train_index, test_index = next(ss.split(X, y))\n",
    "\n",
    "X_train, X_test = X[train_index], X[test_index]\n",
    "y_train, y_test = y[train_index], y[test_index]"
   ]
  },
  {
   "cell_type": "code",
   "execution_count": 4,
   "metadata": {},
   "outputs": [],
   "source": [
    "from sklearn.preprocessing import MinMaxScaler\n",
    "scaler = MinMaxScaler()\n",
    "scaler.fit(X_train)\n",
    "X_train = scaler.transform(X_train)\n",
    "X_test = scaler.transform(X_test)"
   ]
  },
  {
   "cell_type": "code",
   "execution_count": 5,
   "metadata": {},
   "outputs": [],
   "source": [
    "from sklearn.linear_model import LogisticRegression\n",
    "clf = LogisticRegression()"
   ]
  },
  {
   "cell_type": "code",
   "execution_count": 6,
   "metadata": {},
   "outputs": [
    {
     "data": {
      "text/plain": [
       "LogisticRegression(C=1.0, class_weight=None, dual=False, fit_intercept=True,\n",
       "          intercept_scaling=1, max_iter=100, multi_class='warn',\n",
       "          n_jobs=None, penalty='l2', random_state=None, solver='warn',\n",
       "          tol=0.0001, verbose=0, warm_start=False)"
      ]
     },
     "execution_count": 6,
     "metadata": {},
     "output_type": "execute_result"
    }
   ],
   "source": [
    "clf"
   ]
  },
  {
   "cell_type": "code",
   "execution_count": 7,
   "metadata": {},
   "outputs": [
    {
     "name": "stderr",
     "output_type": "stream",
     "text": [
      "C:\\Users\\woobi\\Anaconda3\\envs\\jupyter100\\lib\\site-packages\\sklearn\\linear_model\\logistic.py:433: FutureWarning: Default solver will be changed to 'lbfgs' in 0.22. Specify a solver to silence this warning.\n",
      "  FutureWarning)\n"
     ]
    },
    {
     "data": {
      "text/plain": [
       "0.956140350877193"
      ]
     },
     "execution_count": 7,
     "metadata": {},
     "output_type": "execute_result"
    }
   ],
   "source": [
    "clf.C = 1.0\n",
    "clf.fit(X_train, y_train)\n",
    "clf.score(X_test, y_test)"
   ]
  },
  {
   "cell_type": "code",
   "execution_count": 8,
   "metadata": {},
   "outputs": [
    {
     "name": "stderr",
     "output_type": "stream",
     "text": [
      "C:\\Users\\woobi\\Anaconda3\\envs\\jupyter100\\lib\\site-packages\\sklearn\\linear_model\\logistic.py:433: FutureWarning: Default solver will be changed to 'lbfgs' in 0.22. Specify a solver to silence this warning.\n",
      "  FutureWarning)\n"
     ]
    },
    {
     "data": {
      "text/plain": [
       "0.9736842105263158"
      ]
     },
     "execution_count": 8,
     "metadata": {},
     "output_type": "execute_result"
    }
   ],
   "source": [
    "clf.C = 100.0\n",
    "clf.fit(X_train, y_train)\n",
    "clf.score(X_test, y_test)"
   ]
  },
  {
   "cell_type": "code",
   "execution_count": 9,
   "metadata": {},
   "outputs": [],
   "source": [
    "C_range = [1e-5, 1e-3, 1e-2, 1, 1e2, 1e5, 1e10]"
   ]
  },
  {
   "cell_type": "code",
   "execution_count": 10,
   "metadata": {},
   "outputs": [],
   "source": [
    "C_range_exp = np.arange(-15.0, 21.0)\n",
    "C_range = 10 ** C_range_exp"
   ]
  },
  {
   "cell_type": "code",
   "execution_count": 11,
   "metadata": {},
   "outputs": [
    {
     "data": {
      "text/plain": [
       "array([1.e-15, 1.e-14, 1.e-13, 1.e-12, 1.e-11, 1.e-10, 1.e-09, 1.e-08,\n",
       "       1.e-07, 1.e-06, 1.e-05, 1.e-04, 1.e-03, 1.e-02, 1.e-01, 1.e+00,\n",
       "       1.e+01, 1.e+02, 1.e+03, 1.e+04, 1.e+05, 1.e+06, 1.e+07, 1.e+08,\n",
       "       1.e+09, 1.e+10, 1.e+11, 1.e+12, 1.e+13, 1.e+14, 1.e+15, 1.e+16,\n",
       "       1.e+17, 1.e+18, 1.e+19, 1.e+20])"
      ]
     },
     "execution_count": 11,
     "metadata": {},
     "output_type": "execute_result"
    }
   ],
   "source": [
    "C_range"
   ]
  },
  {
   "cell_type": "code",
   "execution_count": 12,
   "metadata": {},
   "outputs": [
    {
     "name": "stderr",
     "output_type": "stream",
     "text": [
      "C:\\Users\\woobi\\Anaconda3\\envs\\jupyter100\\lib\\site-packages\\sklearn\\model_selection\\_split.py:2053: FutureWarning: You should specify a value for 'cv' instead of relying on the default value. The default value will change from 3 to 5 in version 0.22.\n",
      "  warnings.warn(CV_WARNING, FutureWarning)\n",
      "C:\\Users\\woobi\\Anaconda3\\envs\\jupyter100\\lib\\site-packages\\sklearn\\linear_model\\logistic.py:433: FutureWarning: Default solver will be changed to 'lbfgs' in 0.22. Specify a solver to silence this warning.\n",
      "  FutureWarning)\n",
      "C:\\Users\\woobi\\Anaconda3\\envs\\jupyter100\\lib\\site-packages\\sklearn\\linear_model\\logistic.py:433: FutureWarning: Default solver will be changed to 'lbfgs' in 0.22. Specify a solver to silence this warning.\n",
      "  FutureWarning)\n",
      "C:\\Users\\woobi\\Anaconda3\\envs\\jupyter100\\lib\\site-packages\\sklearn\\linear_model\\logistic.py:433: FutureWarning: Default solver will be changed to 'lbfgs' in 0.22. Specify a solver to silence this warning.\n",
      "  FutureWarning)\n",
      "C:\\Users\\woobi\\Anaconda3\\envs\\jupyter100\\lib\\site-packages\\sklearn\\linear_model\\logistic.py:433: FutureWarning: Default solver will be changed to 'lbfgs' in 0.22. Specify a solver to silence this warning.\n",
      "  FutureWarning)\n",
      "C:\\Users\\woobi\\Anaconda3\\envs\\jupyter100\\lib\\site-packages\\sklearn\\linear_model\\logistic.py:433: FutureWarning: Default solver will be changed to 'lbfgs' in 0.22. Specify a solver to silence this warning.\n",
      "  FutureWarning)\n",
      "C:\\Users\\woobi\\Anaconda3\\envs\\jupyter100\\lib\\site-packages\\sklearn\\linear_model\\logistic.py:433: FutureWarning: Default solver will be changed to 'lbfgs' in 0.22. Specify a solver to silence this warning.\n",
      "  FutureWarning)\n",
      "C:\\Users\\woobi\\Anaconda3\\envs\\jupyter100\\lib\\site-packages\\sklearn\\linear_model\\logistic.py:433: FutureWarning: Default solver will be changed to 'lbfgs' in 0.22. Specify a solver to silence this warning.\n",
      "  FutureWarning)\n",
      "C:\\Users\\woobi\\Anaconda3\\envs\\jupyter100\\lib\\site-packages\\sklearn\\linear_model\\logistic.py:433: FutureWarning: Default solver will be changed to 'lbfgs' in 0.22. Specify a solver to silence this warning.\n",
      "  FutureWarning)\n",
      "C:\\Users\\woobi\\Anaconda3\\envs\\jupyter100\\lib\\site-packages\\sklearn\\linear_model\\logistic.py:433: FutureWarning: Default solver will be changed to 'lbfgs' in 0.22. Specify a solver to silence this warning.\n",
      "  FutureWarning)\n",
      "C:\\Users\\woobi\\Anaconda3\\envs\\jupyter100\\lib\\site-packages\\sklearn\\linear_model\\logistic.py:433: FutureWarning: Default solver will be changed to 'lbfgs' in 0.22. Specify a solver to silence this warning.\n",
      "  FutureWarning)\n",
      "C:\\Users\\woobi\\Anaconda3\\envs\\jupyter100\\lib\\site-packages\\sklearn\\linear_model\\logistic.py:433: FutureWarning: Default solver will be changed to 'lbfgs' in 0.22. Specify a solver to silence this warning.\n",
      "  FutureWarning)\n",
      "C:\\Users\\woobi\\Anaconda3\\envs\\jupyter100\\lib\\site-packages\\sklearn\\linear_model\\logistic.py:433: FutureWarning: Default solver will be changed to 'lbfgs' in 0.22. Specify a solver to silence this warning.\n",
      "  FutureWarning)\n",
      "C:\\Users\\woobi\\Anaconda3\\envs\\jupyter100\\lib\\site-packages\\sklearn\\linear_model\\logistic.py:433: FutureWarning: Default solver will be changed to 'lbfgs' in 0.22. Specify a solver to silence this warning.\n",
      "  FutureWarning)\n",
      "C:\\Users\\woobi\\Anaconda3\\envs\\jupyter100\\lib\\site-packages\\sklearn\\linear_model\\logistic.py:433: FutureWarning: Default solver will be changed to 'lbfgs' in 0.22. Specify a solver to silence this warning.\n",
      "  FutureWarning)\n",
      "C:\\Users\\woobi\\Anaconda3\\envs\\jupyter100\\lib\\site-packages\\sklearn\\linear_model\\logistic.py:433: FutureWarning: Default solver will be changed to 'lbfgs' in 0.22. Specify a solver to silence this warning.\n",
      "  FutureWarning)\n",
      "C:\\Users\\woobi\\Anaconda3\\envs\\jupyter100\\lib\\site-packages\\sklearn\\linear_model\\logistic.py:433: FutureWarning: Default solver will be changed to 'lbfgs' in 0.22. Specify a solver to silence this warning.\n",
      "  FutureWarning)\n",
      "C:\\Users\\woobi\\Anaconda3\\envs\\jupyter100\\lib\\site-packages\\sklearn\\linear_model\\logistic.py:433: FutureWarning: Default solver will be changed to 'lbfgs' in 0.22. Specify a solver to silence this warning.\n",
      "  FutureWarning)\n",
      "C:\\Users\\woobi\\Anaconda3\\envs\\jupyter100\\lib\\site-packages\\sklearn\\linear_model\\logistic.py:433: FutureWarning: Default solver will be changed to 'lbfgs' in 0.22. Specify a solver to silence this warning.\n",
      "  FutureWarning)\n",
      "C:\\Users\\woobi\\Anaconda3\\envs\\jupyter100\\lib\\site-packages\\sklearn\\linear_model\\logistic.py:433: FutureWarning: Default solver will be changed to 'lbfgs' in 0.22. Specify a solver to silence this warning.\n",
      "  FutureWarning)\n",
      "C:\\Users\\woobi\\Anaconda3\\envs\\jupyter100\\lib\\site-packages\\sklearn\\linear_model\\logistic.py:433: FutureWarning: Default solver will be changed to 'lbfgs' in 0.22. Specify a solver to silence this warning.\n",
      "  FutureWarning)\n",
      "C:\\Users\\woobi\\Anaconda3\\envs\\jupyter100\\lib\\site-packages\\sklearn\\linear_model\\logistic.py:433: FutureWarning: Default solver will be changed to 'lbfgs' in 0.22. Specify a solver to silence this warning.\n",
      "  FutureWarning)\n",
      "C:\\Users\\woobi\\Anaconda3\\envs\\jupyter100\\lib\\site-packages\\sklearn\\linear_model\\logistic.py:433: FutureWarning: Default solver will be changed to 'lbfgs' in 0.22. Specify a solver to silence this warning.\n",
      "  FutureWarning)\n",
      "C:\\Users\\woobi\\Anaconda3\\envs\\jupyter100\\lib\\site-packages\\sklearn\\linear_model\\logistic.py:433: FutureWarning: Default solver will be changed to 'lbfgs' in 0.22. Specify a solver to silence this warning.\n",
      "  FutureWarning)\n",
      "C:\\Users\\woobi\\Anaconda3\\envs\\jupyter100\\lib\\site-packages\\sklearn\\linear_model\\logistic.py:433: FutureWarning: Default solver will be changed to 'lbfgs' in 0.22. Specify a solver to silence this warning.\n",
      "  FutureWarning)\n",
      "C:\\Users\\woobi\\Anaconda3\\envs\\jupyter100\\lib\\site-packages\\sklearn\\linear_model\\logistic.py:433: FutureWarning: Default solver will be changed to 'lbfgs' in 0.22. Specify a solver to silence this warning.\n",
      "  FutureWarning)\n",
      "C:\\Users\\woobi\\Anaconda3\\envs\\jupyter100\\lib\\site-packages\\sklearn\\linear_model\\logistic.py:433: FutureWarning: Default solver will be changed to 'lbfgs' in 0.22. Specify a solver to silence this warning.\n",
      "  FutureWarning)\n",
      "C:\\Users\\woobi\\Anaconda3\\envs\\jupyter100\\lib\\site-packages\\sklearn\\linear_model\\logistic.py:433: FutureWarning: Default solver will be changed to 'lbfgs' in 0.22. Specify a solver to silence this warning.\n",
      "  FutureWarning)\n",
      "C:\\Users\\woobi\\Anaconda3\\envs\\jupyter100\\lib\\site-packages\\sklearn\\linear_model\\logistic.py:433: FutureWarning: Default solver will be changed to 'lbfgs' in 0.22. Specify a solver to silence this warning.\n",
      "  FutureWarning)\n",
      "C:\\Users\\woobi\\Anaconda3\\envs\\jupyter100\\lib\\site-packages\\sklearn\\linear_model\\logistic.py:433: FutureWarning: Default solver will be changed to 'lbfgs' in 0.22. Specify a solver to silence this warning.\n",
      "  FutureWarning)\n",
      "C:\\Users\\woobi\\Anaconda3\\envs\\jupyter100\\lib\\site-packages\\sklearn\\linear_model\\logistic.py:433: FutureWarning: Default solver will be changed to 'lbfgs' in 0.22. Specify a solver to silence this warning.\n",
      "  FutureWarning)\n",
      "C:\\Users\\woobi\\Anaconda3\\envs\\jupyter100\\lib\\site-packages\\sklearn\\linear_model\\logistic.py:433: FutureWarning: Default solver will be changed to 'lbfgs' in 0.22. Specify a solver to silence this warning.\n",
      "  FutureWarning)\n",
      "C:\\Users\\woobi\\Anaconda3\\envs\\jupyter100\\lib\\site-packages\\sklearn\\linear_model\\logistic.py:433: FutureWarning: Default solver will be changed to 'lbfgs' in 0.22. Specify a solver to silence this warning.\n",
      "  FutureWarning)\n",
      "C:\\Users\\woobi\\Anaconda3\\envs\\jupyter100\\lib\\site-packages\\sklearn\\linear_model\\logistic.py:433: FutureWarning: Default solver will be changed to 'lbfgs' in 0.22. Specify a solver to silence this warning.\n",
      "  FutureWarning)\n",
      "C:\\Users\\woobi\\Anaconda3\\envs\\jupyter100\\lib\\site-packages\\sklearn\\linear_model\\logistic.py:433: FutureWarning: Default solver will be changed to 'lbfgs' in 0.22. Specify a solver to silence this warning.\n",
      "  FutureWarning)\n",
      "C:\\Users\\woobi\\Anaconda3\\envs\\jupyter100\\lib\\site-packages\\sklearn\\linear_model\\logistic.py:433: FutureWarning: Default solver will be changed to 'lbfgs' in 0.22. Specify a solver to silence this warning.\n",
      "  FutureWarning)\n",
      "C:\\Users\\woobi\\Anaconda3\\envs\\jupyter100\\lib\\site-packages\\sklearn\\linear_model\\logistic.py:433: FutureWarning: Default solver will be changed to 'lbfgs' in 0.22. Specify a solver to silence this warning.\n",
      "  FutureWarning)\n",
      "C:\\Users\\woobi\\Anaconda3\\envs\\jupyter100\\lib\\site-packages\\sklearn\\linear_model\\logistic.py:433: FutureWarning: Default solver will be changed to 'lbfgs' in 0.22. Specify a solver to silence this warning.\n",
      "  FutureWarning)\n",
      "C:\\Users\\woobi\\Anaconda3\\envs\\jupyter100\\lib\\site-packages\\sklearn\\linear_model\\logistic.py:433: FutureWarning: Default solver will be changed to 'lbfgs' in 0.22. Specify a solver to silence this warning.\n",
      "  FutureWarning)\n",
      "C:\\Users\\woobi\\Anaconda3\\envs\\jupyter100\\lib\\site-packages\\sklearn\\linear_model\\logistic.py:433: FutureWarning: Default solver will be changed to 'lbfgs' in 0.22. Specify a solver to silence this warning.\n",
      "  FutureWarning)\n",
      "C:\\Users\\woobi\\Anaconda3\\envs\\jupyter100\\lib\\site-packages\\sklearn\\linear_model\\logistic.py:433: FutureWarning: Default solver will be changed to 'lbfgs' in 0.22. Specify a solver to silence this warning.\n",
      "  FutureWarning)\n",
      "C:\\Users\\woobi\\Anaconda3\\envs\\jupyter100\\lib\\site-packages\\sklearn\\linear_model\\logistic.py:433: FutureWarning: Default solver will be changed to 'lbfgs' in 0.22. Specify a solver to silence this warning.\n",
      "  FutureWarning)\n",
      "C:\\Users\\woobi\\Anaconda3\\envs\\jupyter100\\lib\\site-packages\\sklearn\\linear_model\\logistic.py:433: FutureWarning: Default solver will be changed to 'lbfgs' in 0.22. Specify a solver to silence this warning.\n",
      "  FutureWarning)\n",
      "C:\\Users\\woobi\\Anaconda3\\envs\\jupyter100\\lib\\site-packages\\sklearn\\linear_model\\logistic.py:433: FutureWarning: Default solver will be changed to 'lbfgs' in 0.22. Specify a solver to silence this warning.\n",
      "  FutureWarning)\n",
      "C:\\Users\\woobi\\Anaconda3\\envs\\jupyter100\\lib\\site-packages\\sklearn\\linear_model\\logistic.py:433: FutureWarning: Default solver will be changed to 'lbfgs' in 0.22. Specify a solver to silence this warning.\n",
      "  FutureWarning)\n",
      "C:\\Users\\woobi\\Anaconda3\\envs\\jupyter100\\lib\\site-packages\\sklearn\\linear_model\\logistic.py:433: FutureWarning: Default solver will be changed to 'lbfgs' in 0.22. Specify a solver to silence this warning.\n",
      "  FutureWarning)\n",
      "C:\\Users\\woobi\\Anaconda3\\envs\\jupyter100\\lib\\site-packages\\sklearn\\linear_model\\logistic.py:433: FutureWarning: Default solver will be changed to 'lbfgs' in 0.22. Specify a solver to silence this warning.\n",
      "  FutureWarning)\n",
      "C:\\Users\\woobi\\Anaconda3\\envs\\jupyter100\\lib\\site-packages\\sklearn\\linear_model\\logistic.py:433: FutureWarning: Default solver will be changed to 'lbfgs' in 0.22. Specify a solver to silence this warning.\n",
      "  FutureWarning)\n",
      "C:\\Users\\woobi\\Anaconda3\\envs\\jupyter100\\lib\\site-packages\\sklearn\\linear_model\\logistic.py:433: FutureWarning: Default solver will be changed to 'lbfgs' in 0.22. Specify a solver to silence this warning.\n",
      "  FutureWarning)\n",
      "C:\\Users\\woobi\\Anaconda3\\envs\\jupyter100\\lib\\site-packages\\sklearn\\linear_model\\logistic.py:433: FutureWarning: Default solver will be changed to 'lbfgs' in 0.22. Specify a solver to silence this warning.\n",
      "  FutureWarning)\n",
      "C:\\Users\\woobi\\Anaconda3\\envs\\jupyter100\\lib\\site-packages\\sklearn\\linear_model\\logistic.py:433: FutureWarning: Default solver will be changed to 'lbfgs' in 0.22. Specify a solver to silence this warning.\n",
      "  FutureWarning)\n",
      "C:\\Users\\woobi\\Anaconda3\\envs\\jupyter100\\lib\\site-packages\\sklearn\\linear_model\\logistic.py:433: FutureWarning: Default solver will be changed to 'lbfgs' in 0.22. Specify a solver to silence this warning.\n",
      "  FutureWarning)\n",
      "C:\\Users\\woobi\\Anaconda3\\envs\\jupyter100\\lib\\site-packages\\sklearn\\linear_model\\logistic.py:433: FutureWarning: Default solver will be changed to 'lbfgs' in 0.22. Specify a solver to silence this warning.\n",
      "  FutureWarning)\n",
      "C:\\Users\\woobi\\Anaconda3\\envs\\jupyter100\\lib\\site-packages\\sklearn\\linear_model\\logistic.py:433: FutureWarning: Default solver will be changed to 'lbfgs' in 0.22. Specify a solver to silence this warning.\n",
      "  FutureWarning)\n",
      "C:\\Users\\woobi\\Anaconda3\\envs\\jupyter100\\lib\\site-packages\\sklearn\\linear_model\\logistic.py:433: FutureWarning: Default solver will be changed to 'lbfgs' in 0.22. Specify a solver to silence this warning.\n",
      "  FutureWarning)\n",
      "C:\\Users\\woobi\\Anaconda3\\envs\\jupyter100\\lib\\site-packages\\sklearn\\linear_model\\logistic.py:433: FutureWarning: Default solver will be changed to 'lbfgs' in 0.22. Specify a solver to silence this warning.\n",
      "  FutureWarning)\n",
      "C:\\Users\\woobi\\Anaconda3\\envs\\jupyter100\\lib\\site-packages\\sklearn\\linear_model\\logistic.py:433: FutureWarning: Default solver will be changed to 'lbfgs' in 0.22. Specify a solver to silence this warning.\n",
      "  FutureWarning)\n",
      "C:\\Users\\woobi\\Anaconda3\\envs\\jupyter100\\lib\\site-packages\\sklearn\\linear_model\\logistic.py:433: FutureWarning: Default solver will be changed to 'lbfgs' in 0.22. Specify a solver to silence this warning.\n",
      "  FutureWarning)\n",
      "C:\\Users\\woobi\\Anaconda3\\envs\\jupyter100\\lib\\site-packages\\sklearn\\linear_model\\logistic.py:433: FutureWarning: Default solver will be changed to 'lbfgs' in 0.22. Specify a solver to silence this warning.\n",
      "  FutureWarning)\n",
      "C:\\Users\\woobi\\Anaconda3\\envs\\jupyter100\\lib\\site-packages\\sklearn\\linear_model\\logistic.py:433: FutureWarning: Default solver will be changed to 'lbfgs' in 0.22. Specify a solver to silence this warning.\n",
      "  FutureWarning)\n",
      "C:\\Users\\woobi\\Anaconda3\\envs\\jupyter100\\lib\\site-packages\\sklearn\\linear_model\\logistic.py:433: FutureWarning: Default solver will be changed to 'lbfgs' in 0.22. Specify a solver to silence this warning.\n",
      "  FutureWarning)\n"
     ]
    },
    {
     "name": "stderr",
     "output_type": "stream",
     "text": [
      "C:\\Users\\woobi\\Anaconda3\\envs\\jupyter100\\lib\\site-packages\\sklearn\\linear_model\\logistic.py:433: FutureWarning: Default solver will be changed to 'lbfgs' in 0.22. Specify a solver to silence this warning.\n",
      "  FutureWarning)\n",
      "C:\\Users\\woobi\\Anaconda3\\envs\\jupyter100\\lib\\site-packages\\sklearn\\linear_model\\logistic.py:433: FutureWarning: Default solver will be changed to 'lbfgs' in 0.22. Specify a solver to silence this warning.\n",
      "  FutureWarning)\n",
      "C:\\Users\\woobi\\Anaconda3\\envs\\jupyter100\\lib\\site-packages\\sklearn\\linear_model\\logistic.py:433: FutureWarning: Default solver will be changed to 'lbfgs' in 0.22. Specify a solver to silence this warning.\n",
      "  FutureWarning)\n",
      "C:\\Users\\woobi\\Anaconda3\\envs\\jupyter100\\lib\\site-packages\\sklearn\\linear_model\\logistic.py:433: FutureWarning: Default solver will be changed to 'lbfgs' in 0.22. Specify a solver to silence this warning.\n",
      "  FutureWarning)\n",
      "C:\\Users\\woobi\\Anaconda3\\envs\\jupyter100\\lib\\site-packages\\sklearn\\linear_model\\logistic.py:433: FutureWarning: Default solver will be changed to 'lbfgs' in 0.22. Specify a solver to silence this warning.\n",
      "  FutureWarning)\n",
      "C:\\Users\\woobi\\Anaconda3\\envs\\jupyter100\\lib\\site-packages\\sklearn\\linear_model\\logistic.py:433: FutureWarning: Default solver will be changed to 'lbfgs' in 0.22. Specify a solver to silence this warning.\n",
      "  FutureWarning)\n",
      "C:\\Users\\woobi\\Anaconda3\\envs\\jupyter100\\lib\\site-packages\\sklearn\\linear_model\\logistic.py:433: FutureWarning: Default solver will be changed to 'lbfgs' in 0.22. Specify a solver to silence this warning.\n",
      "  FutureWarning)\n",
      "C:\\Users\\woobi\\Anaconda3\\envs\\jupyter100\\lib\\site-packages\\sklearn\\linear_model\\logistic.py:433: FutureWarning: Default solver will be changed to 'lbfgs' in 0.22. Specify a solver to silence this warning.\n",
      "  FutureWarning)\n",
      "C:\\Users\\woobi\\Anaconda3\\envs\\jupyter100\\lib\\site-packages\\sklearn\\linear_model\\logistic.py:433: FutureWarning: Default solver will be changed to 'lbfgs' in 0.22. Specify a solver to silence this warning.\n",
      "  FutureWarning)\n",
      "C:\\Users\\woobi\\Anaconda3\\envs\\jupyter100\\lib\\site-packages\\sklearn\\linear_model\\logistic.py:433: FutureWarning: Default solver will be changed to 'lbfgs' in 0.22. Specify a solver to silence this warning.\n",
      "  FutureWarning)\n",
      "C:\\Users\\woobi\\Anaconda3\\envs\\jupyter100\\lib\\site-packages\\sklearn\\linear_model\\logistic.py:433: FutureWarning: Default solver will be changed to 'lbfgs' in 0.22. Specify a solver to silence this warning.\n",
      "  FutureWarning)\n",
      "C:\\Users\\woobi\\Anaconda3\\envs\\jupyter100\\lib\\site-packages\\sklearn\\linear_model\\logistic.py:433: FutureWarning: Default solver will be changed to 'lbfgs' in 0.22. Specify a solver to silence this warning.\n",
      "  FutureWarning)\n",
      "C:\\Users\\woobi\\Anaconda3\\envs\\jupyter100\\lib\\site-packages\\sklearn\\svm\\base.py:931: ConvergenceWarning: Liblinear failed to converge, increase the number of iterations.\n",
      "  \"the number of iterations.\", ConvergenceWarning)\n",
      "C:\\Users\\woobi\\Anaconda3\\envs\\jupyter100\\lib\\site-packages\\sklearn\\linear_model\\logistic.py:433: FutureWarning: Default solver will be changed to 'lbfgs' in 0.22. Specify a solver to silence this warning.\n",
      "  FutureWarning)\n",
      "C:\\Users\\woobi\\Anaconda3\\envs\\jupyter100\\lib\\site-packages\\sklearn\\linear_model\\logistic.py:433: FutureWarning: Default solver will be changed to 'lbfgs' in 0.22. Specify a solver to silence this warning.\n",
      "  FutureWarning)\n",
      "C:\\Users\\woobi\\Anaconda3\\envs\\jupyter100\\lib\\site-packages\\sklearn\\linear_model\\logistic.py:433: FutureWarning: Default solver will be changed to 'lbfgs' in 0.22. Specify a solver to silence this warning.\n",
      "  FutureWarning)\n",
      "C:\\Users\\woobi\\Anaconda3\\envs\\jupyter100\\lib\\site-packages\\sklearn\\linear_model\\logistic.py:433: FutureWarning: Default solver will be changed to 'lbfgs' in 0.22. Specify a solver to silence this warning.\n",
      "  FutureWarning)\n",
      "C:\\Users\\woobi\\Anaconda3\\envs\\jupyter100\\lib\\site-packages\\sklearn\\linear_model\\logistic.py:433: FutureWarning: Default solver will be changed to 'lbfgs' in 0.22. Specify a solver to silence this warning.\n",
      "  FutureWarning)\n",
      "C:\\Users\\woobi\\Anaconda3\\envs\\jupyter100\\lib\\site-packages\\sklearn\\linear_model\\logistic.py:433: FutureWarning: Default solver will be changed to 'lbfgs' in 0.22. Specify a solver to silence this warning.\n",
      "  FutureWarning)\n",
      "C:\\Users\\woobi\\Anaconda3\\envs\\jupyter100\\lib\\site-packages\\sklearn\\linear_model\\logistic.py:433: FutureWarning: Default solver will be changed to 'lbfgs' in 0.22. Specify a solver to silence this warning.\n",
      "  FutureWarning)\n",
      "C:\\Users\\woobi\\Anaconda3\\envs\\jupyter100\\lib\\site-packages\\sklearn\\linear_model\\logistic.py:433: FutureWarning: Default solver will be changed to 'lbfgs' in 0.22. Specify a solver to silence this warning.\n",
      "  FutureWarning)\n",
      "C:\\Users\\woobi\\Anaconda3\\envs\\jupyter100\\lib\\site-packages\\sklearn\\linear_model\\logistic.py:433: FutureWarning: Default solver will be changed to 'lbfgs' in 0.22. Specify a solver to silence this warning.\n",
      "  FutureWarning)\n",
      "C:\\Users\\woobi\\Anaconda3\\envs\\jupyter100\\lib\\site-packages\\sklearn\\linear_model\\logistic.py:433: FutureWarning: Default solver will be changed to 'lbfgs' in 0.22. Specify a solver to silence this warning.\n",
      "  FutureWarning)\n",
      "C:\\Users\\woobi\\Anaconda3\\envs\\jupyter100\\lib\\site-packages\\sklearn\\linear_model\\logistic.py:433: FutureWarning: Default solver will be changed to 'lbfgs' in 0.22. Specify a solver to silence this warning.\n",
      "  FutureWarning)\n",
      "C:\\Users\\woobi\\Anaconda3\\envs\\jupyter100\\lib\\site-packages\\sklearn\\linear_model\\logistic.py:433: FutureWarning: Default solver will be changed to 'lbfgs' in 0.22. Specify a solver to silence this warning.\n",
      "  FutureWarning)\n",
      "C:\\Users\\woobi\\Anaconda3\\envs\\jupyter100\\lib\\site-packages\\sklearn\\svm\\base.py:931: ConvergenceWarning: Liblinear failed to converge, increase the number of iterations.\n",
      "  \"the number of iterations.\", ConvergenceWarning)\n",
      "C:\\Users\\woobi\\Anaconda3\\envs\\jupyter100\\lib\\site-packages\\sklearn\\linear_model\\logistic.py:433: FutureWarning: Default solver will be changed to 'lbfgs' in 0.22. Specify a solver to silence this warning.\n",
      "  FutureWarning)\n",
      "C:\\Users\\woobi\\Anaconda3\\envs\\jupyter100\\lib\\site-packages\\sklearn\\linear_model\\logistic.py:433: FutureWarning: Default solver will be changed to 'lbfgs' in 0.22. Specify a solver to silence this warning.\n",
      "  FutureWarning)\n",
      "C:\\Users\\woobi\\Anaconda3\\envs\\jupyter100\\lib\\site-packages\\sklearn\\linear_model\\logistic.py:433: FutureWarning: Default solver will be changed to 'lbfgs' in 0.22. Specify a solver to silence this warning.\n",
      "  FutureWarning)\n",
      "C:\\Users\\woobi\\Anaconda3\\envs\\jupyter100\\lib\\site-packages\\sklearn\\svm\\base.py:931: ConvergenceWarning: Liblinear failed to converge, increase the number of iterations.\n",
      "  \"the number of iterations.\", ConvergenceWarning)\n",
      "C:\\Users\\woobi\\Anaconda3\\envs\\jupyter100\\lib\\site-packages\\sklearn\\linear_model\\logistic.py:433: FutureWarning: Default solver will be changed to 'lbfgs' in 0.22. Specify a solver to silence this warning.\n",
      "  FutureWarning)\n",
      "C:\\Users\\woobi\\Anaconda3\\envs\\jupyter100\\lib\\site-packages\\sklearn\\linear_model\\logistic.py:433: FutureWarning: Default solver will be changed to 'lbfgs' in 0.22. Specify a solver to silence this warning.\n",
      "  FutureWarning)\n",
      "C:\\Users\\woobi\\Anaconda3\\envs\\jupyter100\\lib\\site-packages\\sklearn\\linear_model\\logistic.py:433: FutureWarning: Default solver will be changed to 'lbfgs' in 0.22. Specify a solver to silence this warning.\n",
      "  FutureWarning)\n",
      "C:\\Users\\woobi\\Anaconda3\\envs\\jupyter100\\lib\\site-packages\\sklearn\\linear_model\\logistic.py:433: FutureWarning: Default solver will be changed to 'lbfgs' in 0.22. Specify a solver to silence this warning.\n",
      "  FutureWarning)\n",
      "C:\\Users\\woobi\\Anaconda3\\envs\\jupyter100\\lib\\site-packages\\sklearn\\linear_model\\logistic.py:433: FutureWarning: Default solver will be changed to 'lbfgs' in 0.22. Specify a solver to silence this warning.\n",
      "  FutureWarning)\n",
      "C:\\Users\\woobi\\Anaconda3\\envs\\jupyter100\\lib\\site-packages\\sklearn\\linear_model\\logistic.py:433: FutureWarning: Default solver will be changed to 'lbfgs' in 0.22. Specify a solver to silence this warning.\n",
      "  FutureWarning)\n",
      "C:\\Users\\woobi\\Anaconda3\\envs\\jupyter100\\lib\\site-packages\\sklearn\\linear_model\\logistic.py:433: FutureWarning: Default solver will be changed to 'lbfgs' in 0.22. Specify a solver to silence this warning.\n",
      "  FutureWarning)\n",
      "C:\\Users\\woobi\\Anaconda3\\envs\\jupyter100\\lib\\site-packages\\sklearn\\linear_model\\logistic.py:433: FutureWarning: Default solver will be changed to 'lbfgs' in 0.22. Specify a solver to silence this warning.\n",
      "  FutureWarning)\n",
      "C:\\Users\\woobi\\Anaconda3\\envs\\jupyter100\\lib\\site-packages\\sklearn\\linear_model\\logistic.py:433: FutureWarning: Default solver will be changed to 'lbfgs' in 0.22. Specify a solver to silence this warning.\n",
      "  FutureWarning)\n",
      "C:\\Users\\woobi\\Anaconda3\\envs\\jupyter100\\lib\\site-packages\\sklearn\\linear_model\\logistic.py:433: FutureWarning: Default solver will be changed to 'lbfgs' in 0.22. Specify a solver to silence this warning.\n",
      "  FutureWarning)\n",
      "C:\\Users\\woobi\\Anaconda3\\envs\\jupyter100\\lib\\site-packages\\sklearn\\linear_model\\logistic.py:433: FutureWarning: Default solver will be changed to 'lbfgs' in 0.22. Specify a solver to silence this warning.\n",
      "  FutureWarning)\n",
      "C:\\Users\\woobi\\Anaconda3\\envs\\jupyter100\\lib\\site-packages\\sklearn\\linear_model\\logistic.py:433: FutureWarning: Default solver will be changed to 'lbfgs' in 0.22. Specify a solver to silence this warning.\n",
      "  FutureWarning)\n",
      "C:\\Users\\woobi\\Anaconda3\\envs\\jupyter100\\lib\\site-packages\\sklearn\\linear_model\\logistic.py:433: FutureWarning: Default solver will be changed to 'lbfgs' in 0.22. Specify a solver to silence this warning.\n",
      "  FutureWarning)\n"
     ]
    },
    {
     "name": "stderr",
     "output_type": "stream",
     "text": [
      "C:\\Users\\woobi\\Anaconda3\\envs\\jupyter100\\lib\\site-packages\\sklearn\\linear_model\\logistic.py:433: FutureWarning: Default solver will be changed to 'lbfgs' in 0.22. Specify a solver to silence this warning.\n",
      "  FutureWarning)\n",
      "C:\\Users\\woobi\\Anaconda3\\envs\\jupyter100\\lib\\site-packages\\sklearn\\linear_model\\logistic.py:433: FutureWarning: Default solver will be changed to 'lbfgs' in 0.22. Specify a solver to silence this warning.\n",
      "  FutureWarning)\n",
      "C:\\Users\\woobi\\Anaconda3\\envs\\jupyter100\\lib\\site-packages\\sklearn\\linear_model\\logistic.py:433: FutureWarning: Default solver will be changed to 'lbfgs' in 0.22. Specify a solver to silence this warning.\n",
      "  FutureWarning)\n",
      "C:\\Users\\woobi\\Anaconda3\\envs\\jupyter100\\lib\\site-packages\\sklearn\\linear_model\\logistic.py:433: FutureWarning: Default solver will be changed to 'lbfgs' in 0.22. Specify a solver to silence this warning.\n",
      "  FutureWarning)\n",
      "C:\\Users\\woobi\\Anaconda3\\envs\\jupyter100\\lib\\site-packages\\sklearn\\linear_model\\logistic.py:433: FutureWarning: Default solver will be changed to 'lbfgs' in 0.22. Specify a solver to silence this warning.\n",
      "  FutureWarning)\n",
      "C:\\Users\\woobi\\Anaconda3\\envs\\jupyter100\\lib\\site-packages\\sklearn\\linear_model\\logistic.py:433: FutureWarning: Default solver will be changed to 'lbfgs' in 0.22. Specify a solver to silence this warning.\n",
      "  FutureWarning)\n",
      "C:\\Users\\woobi\\Anaconda3\\envs\\jupyter100\\lib\\site-packages\\sklearn\\linear_model\\logistic.py:433: FutureWarning: Default solver will be changed to 'lbfgs' in 0.22. Specify a solver to silence this warning.\n",
      "  FutureWarning)\n",
      "C:\\Users\\woobi\\Anaconda3\\envs\\jupyter100\\lib\\site-packages\\sklearn\\linear_model\\logistic.py:433: FutureWarning: Default solver will be changed to 'lbfgs' in 0.22. Specify a solver to silence this warning.\n",
      "  FutureWarning)\n",
      "C:\\Users\\woobi\\Anaconda3\\envs\\jupyter100\\lib\\site-packages\\sklearn\\svm\\base.py:931: ConvergenceWarning: Liblinear failed to converge, increase the number of iterations.\n",
      "  \"the number of iterations.\", ConvergenceWarning)\n",
      "C:\\Users\\woobi\\Anaconda3\\envs\\jupyter100\\lib\\site-packages\\sklearn\\linear_model\\logistic.py:433: FutureWarning: Default solver will be changed to 'lbfgs' in 0.22. Specify a solver to silence this warning.\n",
      "  FutureWarning)\n"
     ]
    },
    {
     "data": {
      "text/plain": [
       "GridSearchCV(cv='warn', error_score='raise-deprecating',\n",
       "       estimator=LogisticRegression(C=100.0, class_weight=None, dual=False, fit_intercept=True,\n",
       "          intercept_scaling=1, max_iter=100, multi_class='warn',\n",
       "          n_jobs=None, penalty='l2', random_state=None, solver='warn',\n",
       "          tol=0.0001, verbose=0, warm_start=False),\n",
       "       fit_params=None, iid='warn', n_jobs=None,\n",
       "       param_grid={'C': array([1.e-15, 1.e-14, 1.e-13, 1.e-12, 1.e-11, 1.e-10, 1.e-09, 1.e-08,\n",
       "       1.e-07, 1.e-06, 1.e-05, 1.e-04, 1.e-03, 1.e-02, 1.e-01, 1.e+00,\n",
       "       1.e+01, 1.e+02, 1.e+03, 1.e+04, 1.e+05, 1.e+06, 1.e+07, 1.e+08,\n",
       "       1.e+09, 1.e+10, 1.e+11, 1.e+12, 1.e+13, 1.e+14, 1.e+15, 1.e+16,\n",
       "       1.e+17, 1.e+18, 1.e+19, 1.e+20])},\n",
       "       pre_dispatch='2*n_jobs', refit=True, return_train_score='warn',\n",
       "       scoring=None, verbose=0)"
      ]
     },
     "execution_count": 12,
     "metadata": {},
     "output_type": "execute_result"
    }
   ],
   "source": [
    "from sklearn.model_selection import GridSearchCV\n",
    "\n",
    "param = {'C':C_range}\n",
    "gs = GridSearchCV(clf, param)\n",
    "gs.fit(X_train, y_train)"
   ]
  },
  {
   "cell_type": "code",
   "execution_count": 13,
   "metadata": {},
   "outputs": [
    {
     "name": "stderr",
     "output_type": "stream",
     "text": [
      "C:\\Users\\woobi\\Anaconda3\\envs\\jupyter100\\lib\\site-packages\\sklearn\\utils\\deprecation.py:125: FutureWarning: You are accessing a training score ('split0_train_score'), which will not be available by default any more in 0.21. If you need training scores, please set return_train_score=True\n",
      "  warnings.warn(*warn_args, **warn_kwargs)\n",
      "C:\\Users\\woobi\\Anaconda3\\envs\\jupyter100\\lib\\site-packages\\sklearn\\utils\\deprecation.py:125: FutureWarning: You are accessing a training score ('split1_train_score'), which will not be available by default any more in 0.21. If you need training scores, please set return_train_score=True\n",
      "  warnings.warn(*warn_args, **warn_kwargs)\n",
      "C:\\Users\\woobi\\Anaconda3\\envs\\jupyter100\\lib\\site-packages\\sklearn\\utils\\deprecation.py:125: FutureWarning: You are accessing a training score ('split2_train_score'), which will not be available by default any more in 0.21. If you need training scores, please set return_train_score=True\n",
      "  warnings.warn(*warn_args, **warn_kwargs)\n",
      "C:\\Users\\woobi\\Anaconda3\\envs\\jupyter100\\lib\\site-packages\\sklearn\\utils\\deprecation.py:125: FutureWarning: You are accessing a training score ('mean_train_score'), which will not be available by default any more in 0.21. If you need training scores, please set return_train_score=True\n",
      "  warnings.warn(*warn_args, **warn_kwargs)\n",
      "C:\\Users\\woobi\\Anaconda3\\envs\\jupyter100\\lib\\site-packages\\sklearn\\utils\\deprecation.py:125: FutureWarning: You are accessing a training score ('std_train_score'), which will not be available by default any more in 0.21. If you need training scores, please set return_train_score=True\n",
      "  warnings.warn(*warn_args, **warn_kwargs)\n"
     ]
    },
    {
     "data": {
      "text/plain": [
       "{'mean_fit_time': array([0.01964712, 0.00299811, 0.00133093, 0.00099881, 0.00166496,\n",
       "        0.00099874, 0.00099905, 0.00133244, 0.00299811, 0.00233134,\n",
       "        0.00233046, 0.00266369, 0.00266465, 0.00266401, 0.00399637,\n",
       "        0.00299652, 0.00299652, 0.00332896, 0.00532786, 0.00965714,\n",
       "        0.01098855, 0.02930681, 0.02231137, 0.03196979, 0.01764925,\n",
       "        0.01198808, 0.01232115, 0.01465154, 0.01331894, 0.01631713,\n",
       "        0.01465297, 0.01631697, 0.01098903, 0.01098808, 0.01165493,\n",
       "        0.01398659]),\n",
       " 'std_fit_time': array([1.95823920e-02, 1.08386530e-06, 4.71651825e-04, 5.61957980e-07,\n",
       "        4.69740686e-04, 1.94667955e-07, 4.49566384e-07, 4.71932312e-04,\n",
       "        8.15756081e-04, 4.70808436e-04, 4.70077941e-04, 4.71932312e-04,\n",
       "        4.70246478e-04, 9.41616872e-04, 8.16048066e-04, 5.94720425e-07,\n",
       "        4.89903609e-07, 4.70920948e-04, 9.42853280e-04, 3.08874541e-03,\n",
       "        2.15832449e-03, 1.59494148e-02, 1.75002862e-02, 2.90358558e-02,\n",
       "        1.72331344e-02, 9.88989849e-03, 8.94884369e-03, 1.43705894e-02,\n",
       "        1.32117611e-02, 1.53111396e-02, 1.17169128e-02, 1.60324670e-02,\n",
       "        7.86582704e-03, 7.86612981e-03, 7.30998327e-03, 1.27426791e-02]),\n",
       " 'mean_score_time': array([0.00133244, 0.00066614, 0.00099993, 0.        , 0.00033355,\n",
       "        0.00099961, 0.00033387, 0.00066622, 0.00033283, 0.00033299,\n",
       "        0.00033236, 0.0006663 , 0.00033331, 0.00133236, 0.00066566,\n",
       "        0.00099961, 0.00099945, 0.0006663 , 0.00100048, 0.00099937,\n",
       "        0.0006663 , 0.00133101, 0.00099953, 0.00033275, 0.        ,\n",
       "        0.00033307, 0.00033307, 0.00033339, 0.00066686, 0.00033291,\n",
       "        0.        , 0.00033331, 0.00033307, 0.00033363, 0.00099937,\n",
       "        0.00033291]),\n",
       " 'std_score_time': array([4.70583653e-04, 9.42066358e-04, 1.94667955e-06, 0.00000000e+00,\n",
       "        4.71707529e-04, 8.77806426e-07, 4.72157095e-04, 4.71089465e-04,\n",
       "        4.70696004e-04, 4.70920787e-04, 4.70021655e-04, 4.71145731e-04,\n",
       "        4.71370354e-04, 4.70641026e-04, 4.70696648e-04, 4.89903609e-07,\n",
       "        3.89335909e-07, 4.71145611e-04, 7.86741172e-07, 2.97360213e-07,\n",
       "        4.71145731e-04, 4.70752693e-04, 1.12391596e-07, 4.70583613e-04,\n",
       "        0.00000000e+00, 4.71033179e-04, 4.71033179e-04, 4.71482745e-04,\n",
       "        4.71540639e-04, 4.70808396e-04, 0.00000000e+00, 4.71370354e-04,\n",
       "        4.71033179e-04, 4.71819920e-04, 2.97360213e-07, 4.70808396e-04]),\n",
       " 'param_C': masked_array(data=[1e-15, 1e-14, 1e-13, 1e-12, 1e-11, 1e-10, 1e-09, 1e-08,\n",
       "                    1e-07, 1e-06, 1e-05, 0.0001, 0.001, 0.01, 0.1, 1.0,\n",
       "                    10.0, 100.0, 1000.0, 10000.0, 100000.0, 1000000.0,\n",
       "                    10000000.0, 100000000.0, 1000000000.0, 10000000000.0,\n",
       "                    100000000000.0, 1000000000000.0, 10000000000000.0,\n",
       "                    100000000000000.0, 1000000000000000.0, 1e+16, 1e+17,\n",
       "                    1e+18, 1e+19, 1e+20],\n",
       "              mask=[False, False, False, False, False, False, False, False,\n",
       "                    False, False, False, False, False, False, False, False,\n",
       "                    False, False, False, False, False, False, False, False,\n",
       "                    False, False, False, False, False, False, False, False,\n",
       "                    False, False, False, False],\n",
       "        fill_value='?',\n",
       "             dtype=object),\n",
       " 'params': [{'C': 1e-15},\n",
       "  {'C': 1e-14},\n",
       "  {'C': 1e-13},\n",
       "  {'C': 1e-12},\n",
       "  {'C': 1e-11},\n",
       "  {'C': 1e-10},\n",
       "  {'C': 1e-09},\n",
       "  {'C': 1e-08},\n",
       "  {'C': 1e-07},\n",
       "  {'C': 1e-06},\n",
       "  {'C': 1e-05},\n",
       "  {'C': 0.0001},\n",
       "  {'C': 0.001},\n",
       "  {'C': 0.01},\n",
       "  {'C': 0.1},\n",
       "  {'C': 1.0},\n",
       "  {'C': 10.0},\n",
       "  {'C': 100.0},\n",
       "  {'C': 1000.0},\n",
       "  {'C': 10000.0},\n",
       "  {'C': 100000.0},\n",
       "  {'C': 1000000.0},\n",
       "  {'C': 10000000.0},\n",
       "  {'C': 100000000.0},\n",
       "  {'C': 1000000000.0},\n",
       "  {'C': 10000000000.0},\n",
       "  {'C': 100000000000.0},\n",
       "  {'C': 1000000000000.0},\n",
       "  {'C': 10000000000000.0},\n",
       "  {'C': 100000000000000.0},\n",
       "  {'C': 1000000000000000.0},\n",
       "  {'C': 1e+16},\n",
       "  {'C': 1e+17},\n",
       "  {'C': 1e+18},\n",
       "  {'C': 1e+19},\n",
       "  {'C': 1e+20}],\n",
       " 'split0_test_score': array([0.63815789, 0.63815789, 0.63815789, 0.63815789, 0.63815789,\n",
       "        0.63815789, 0.63815789, 0.63815789, 0.63815789, 0.63815789,\n",
       "        0.63815789, 0.63815789, 0.63815789, 0.80263158, 0.91447368,\n",
       "        0.92763158, 0.96710526, 0.96710526, 0.96710526, 0.94736842,\n",
       "        0.94078947, 0.93421053, 0.92763158, 0.93421053, 0.93421053,\n",
       "        0.94078947, 0.92763158, 0.94078947, 0.93421053, 0.93421053,\n",
       "        0.93421053, 0.93421053, 0.93421053, 0.93421053, 0.93421053,\n",
       "        0.93421053]),\n",
       " 'split1_test_score': array([0.64473684, 0.64473684, 0.64473684, 0.64473684, 0.64473684,\n",
       "        0.64473684, 0.64473684, 0.64473684, 0.64473684, 0.64473684,\n",
       "        0.64473684, 0.64473684, 0.65131579, 0.79605263, 0.92105263,\n",
       "        0.94078947, 0.94078947, 0.94078947, 0.93421053, 0.92105263,\n",
       "        0.92105263, 0.92105263, 0.92105263, 0.92105263, 0.92105263,\n",
       "        0.92105263, 0.92105263, 0.92105263, 0.92105263, 0.92105263,\n",
       "        0.92105263, 0.92105263, 0.92105263, 0.92105263, 0.92105263,\n",
       "        0.92105263]),\n",
       " 'split2_test_score': array([0.64238411, 0.64238411, 0.64238411, 0.64238411, 0.64238411,\n",
       "        0.64238411, 0.64238411, 0.64238411, 0.64238411, 0.64238411,\n",
       "        0.64238411, 0.64238411, 0.65562914, 0.78807947, 0.94039735,\n",
       "        0.98013245, 0.99337748, 0.98675497, 0.99337748, 0.98675497,\n",
       "        0.97350993, 0.95364238, 0.94701987, 0.94701987, 0.94039735,\n",
       "        0.94039735, 0.94039735, 0.94039735, 0.94701987, 0.94039735,\n",
       "        0.94039735, 0.94039735, 0.94701987, 0.95364238, 0.94039735,\n",
       "        0.94039735]),\n",
       " 'mean_test_score': array([0.64175824, 0.64175824, 0.64175824, 0.64175824, 0.64175824,\n",
       "        0.64175824, 0.64175824, 0.64175824, 0.64175824, 0.64175824,\n",
       "        0.64175824, 0.64175824, 0.64835165, 0.7956044 , 0.92527473,\n",
       "        0.94945055, 0.96703297, 0.96483516, 0.96483516, 0.95164835,\n",
       "        0.94505495, 0.93626374, 0.93186813, 0.93406593, 0.93186813,\n",
       "        0.93406593, 0.92967033, 0.93406593, 0.93406593, 0.93186813,\n",
       "        0.93186813, 0.93186813, 0.93406593, 0.93626374, 0.93186813,\n",
       "        0.93186813]),\n",
       " 'std_test_score': array([0.00272473, 0.00272473, 0.00272473, 0.00272473, 0.00272473,\n",
       "        0.00272473, 0.00272473, 0.00272473, 0.00272473, 0.00272473,\n",
       "        0.00272473, 0.00272473, 0.00743136, 0.00594606, 0.01099201,\n",
       "        0.02228253, 0.02145711, 0.01882371, 0.02419489, 0.02697882,\n",
       "        0.02161588, 0.01337661, 0.0110119 , 0.01059569, 0.00806554,\n",
       "        0.00921835, 0.00802406, 0.00921835, 0.01059569, 0.00806554,\n",
       "        0.00806554, 0.00806554, 0.01059569, 0.01337661, 0.00806554,\n",
       "        0.00806554]),\n",
       " 'rank_test_score': array([25, 25, 25, 25, 25, 25, 25, 25, 25, 25, 25, 25, 24, 23, 22,  5,  1,\n",
       "         2,  2,  4,  6,  7, 14,  9, 14,  9, 21,  9,  9, 14, 14, 14,  9,  7,\n",
       "        14, 14]),\n",
       " 'split0_train_score': array([0.64026403, 0.64026403, 0.64026403, 0.64026403, 0.64026403,\n",
       "        0.64026403, 0.64026403, 0.64026403, 0.64026403, 0.64026403,\n",
       "        0.64026403, 0.64026403, 0.65346535, 0.79207921, 0.93069307,\n",
       "        0.9669967 , 0.98679868, 0.98679868, 0.99009901, 1.        ,\n",
       "        1.        , 1.        , 1.        , 1.        , 1.        ,\n",
       "        1.        , 1.        , 1.        , 1.        , 1.        ,\n",
       "        1.        , 1.        , 1.        , 1.        , 1.        ,\n",
       "        1.        ]),\n",
       " 'split1_train_score': array([0.64356436, 0.64356436, 0.64356436, 0.64356436, 0.64356436,\n",
       "        0.64356436, 0.64356436, 0.64356436, 0.64356436, 0.64356436,\n",
       "        0.64356436, 0.64356436, 0.66336634, 0.81188119, 0.91419142,\n",
       "        0.9669967 , 0.99339934, 0.99669967, 1.        , 1.        ,\n",
       "        1.        , 1.        , 1.        , 1.        , 1.        ,\n",
       "        1.        , 1.        , 1.        , 1.        , 1.        ,\n",
       "        1.        , 1.        , 1.        , 1.        , 1.        ,\n",
       "        1.        ]),\n",
       " 'split2_train_score': array([0.63815789, 0.63815789, 0.63815789, 0.63815789, 0.63815789,\n",
       "        0.63815789, 0.63815789, 0.63815789, 0.63815789, 0.63815789,\n",
       "        0.63815789, 0.63815789, 0.64144737, 0.79934211, 0.91776316,\n",
       "        0.95723684, 0.97697368, 0.98355263, 0.98026316, 0.98355263,\n",
       "        0.99671053, 1.        , 1.        , 1.        , 1.        ,\n",
       "        1.        , 1.        , 1.        , 1.        , 1.        ,\n",
       "        1.        , 1.        , 1.        , 1.        , 1.        ,\n",
       "        1.        ]),\n",
       " 'mean_train_score': array([0.64066209, 0.64066209, 0.64066209, 0.64066209, 0.64066209,\n",
       "        0.64066209, 0.64066209, 0.64066209, 0.64066209, 0.64066209,\n",
       "        0.64066209, 0.64066209, 0.65275968, 0.80110083, 0.92088255,\n",
       "        0.96374341, 0.9857239 , 0.98901699, 0.99012072, 0.99451754,\n",
       "        0.99890351, 1.        , 1.        , 1.        , 1.        ,\n",
       "        1.        , 1.        , 1.        , 1.        , 1.        ,\n",
       "        1.        , 1.        , 1.        , 1.        , 1.        ,\n",
       "        1.        ]),\n",
       " 'std_train_score': array([0.00222505, 0.00222505, 0.00222505, 0.00222505, 0.00222505,\n",
       "        0.00222505, 0.00222505, 0.00222505, 0.00222505, 0.00222505,\n",
       "        0.00222505, 0.00222505, 0.00896228, 0.00817922, 0.00708868,\n",
       "        0.00460084, 0.00674867, 0.00559177, 0.00805755, 0.00775336,\n",
       "        0.00155067, 0.        , 0.        , 0.        , 0.        ,\n",
       "        0.        , 0.        , 0.        , 0.        , 0.        ,\n",
       "        0.        , 0.        , 0.        , 0.        , 0.        ,\n",
       "        0.        ])}"
      ]
     },
     "execution_count": 13,
     "metadata": {},
     "output_type": "execute_result"
    }
   ],
   "source": [
    "gs.cv_results_"
   ]
  },
  {
   "cell_type": "code",
   "execution_count": 14,
   "metadata": {},
   "outputs": [
    {
     "data": {
      "text/plain": [
       "({'C': 10.0},\n",
       " 0.967032967032967,\n",
       " LogisticRegression(C=10.0, class_weight=None, dual=False, fit_intercept=True,\n",
       "           intercept_scaling=1, max_iter=100, multi_class='warn',\n",
       "           n_jobs=None, penalty='l2', random_state=None, solver='warn',\n",
       "           tol=0.0001, verbose=0, warm_start=False))"
      ]
     },
     "execution_count": 14,
     "metadata": {},
     "output_type": "execute_result"
    }
   ],
   "source": [
    "gs.best_params_, gs.best_score_, gs.best_estimator_"
   ]
  },
  {
   "cell_type": "code",
   "execution_count": 15,
   "metadata": {
    "scrolled": true
   },
   "outputs": [
    {
     "data": {
      "text/plain": [
       "0.9649122807017544"
      ]
     },
     "execution_count": 15,
     "metadata": {},
     "output_type": "execute_result"
    }
   ],
   "source": [
    "clf_best = gs.best_estimator_\n",
    "clf_best.score(X_test, y_test)"
   ]
  },
  {
   "cell_type": "code",
   "execution_count": 16,
   "metadata": {},
   "outputs": [
    {
     "data": {
      "text/plain": [
       "0.9649122807017544"
      ]
     },
     "execution_count": 16,
     "metadata": {},
     "output_type": "execute_result"
    }
   ],
   "source": [
    "gs.score(X_test, y_test)"
   ]
  },
  {
   "cell_type": "code",
   "execution_count": 17,
   "metadata": {},
   "outputs": [
    {
     "name": "stderr",
     "output_type": "stream",
     "text": [
      "C:\\Users\\woobi\\Anaconda3\\envs\\jupyter100\\lib\\site-packages\\sklearn\\utils\\deprecation.py:125: FutureWarning: You are accessing a training score ('mean_train_score'), which will not be available by default any more in 0.21. If you need training scores, please set return_train_score=True\n",
      "  warnings.warn(*warn_args, **warn_kwargs)\n",
      "C:\\Users\\woobi\\Anaconda3\\envs\\jupyter100\\lib\\site-packages\\sklearn\\utils\\deprecation.py:125: FutureWarning: You are accessing a training score ('std_train_score'), which will not be available by default any more in 0.21. If you need training scores, please set return_train_score=True\n",
      "  warnings.warn(*warn_args, **warn_kwargs)\n"
     ]
    },
    {
     "data": {
      "image/png": "[encoded data removed]",
      "text/plain": [
       "<Figure size 432x288 with 1 Axes>"
      ]
     },
     "metadata": {
      "needs_background": "light"
     },
     "output_type": "display_data"
    }
   ],
   "source": [
    "plt.errorbar(gs.cv_results_['param_C'].data,\n",
    "             gs.cv_results_['mean_train_score'],\n",
    "             yerr=gs.cv_results_['std_train_score'],\n",
    "             label=\"training\")\n",
    "plt.errorbar(gs.cv_results_['param_C'].data,\n",
    "             gs.cv_results_['mean_test_score'],\n",
    "             yerr=gs.cv_results_['std_test_score'],\n",
    "             label=\"test(val)\")\n",
    "\n",
    "plt.ylim(.6, 1.01)\n",
    "plt.xscale(\"log\")\n",
    "plt.xlabel(\"C\")\n",
    "plt.ylabel(\"accuracy\")\n",
    "plt.legend(loc=\"best\");"
   ]
  },
  {
   "cell_type": "code",
   "execution_count": 18,
   "metadata": {},
   "outputs": [
    {
     "data": {
      "image/png": "[encoded data removed]",
      "text/plain": [
       "<Figure size 432x288 with 1 Axes>"
      ]
     },
     "metadata": {
      "needs_background": "light"
     },
     "output_type": "display_data"
    }
   ],
   "source": [
    "plt.errorbar(gs.cv_results_['param_C'].data,\n",
    "             gs.cv_results_['mean_fit_time'],\n",
    "             yerr=gs.cv_results_['std_fit_time'],\n",
    "             label=\"training\")\n",
    "\n",
    "plt.errorbar(gs.cv_results_['param_C'].data,\n",
    "             gs.cv_results_['mean_score_time'],\n",
    "             yerr=gs.cv_results_['std_score_time'],\n",
    "             label=\"test(val)\")\n",
    "\n",
    "plt.ylim(0,)\n",
    "plt.xscale(\"log\")\n",
    "plt.xlabel(\"C\")\n",
    "plt.ylabel(\"computation time\")\n",
    "plt.legend(loc=\"best\");"
   ]
  },
  {
   "cell_type": "code",
   "execution_count": 19,
   "metadata": {},
   "outputs": [
    {
     "name": "stderr",
     "output_type": "stream",
     "text": [
      "C:\\Users\\woobi\\Anaconda3\\envs\\jupyter100\\lib\\site-packages\\sklearn\\model_selection\\_split.py:2053: FutureWarning: You should specify a value for 'cv' instead of relying on the default value. The default value will change from 3 to 5 in version 0.22.\n",
      "  warnings.warn(CV_WARNING, FutureWarning)\n",
      "[Parallel(n_jobs=1)]: Using backend SequentialBackend with 1 concurrent workers.\n",
      "[Parallel(n_jobs=1)]: Done   1 out of   1 | elapsed:    0.0s remaining:    0.0s\n",
      "C:\\Users\\woobi\\Anaconda3\\envs\\jupyter100\\lib\\site-packages\\sklearn\\svm\\base.py:196: FutureWarning: The default value of gamma will change from 'auto' to 'scale' in version 0.22 to account better for unscaled features. Set gamma explicitly to 'auto' or 'scale' to avoid this warning.\n",
      "  \"avoid this warning.\", FutureWarning)\n",
      "C:\\Users\\woobi\\Anaconda3\\envs\\jupyter100\\lib\\site-packages\\sklearn\\svm\\base.py:196: FutureWarning: The default value of gamma will change from 'auto' to 'scale' in version 0.22 to account better for unscaled features. Set gamma explicitly to 'auto' or 'scale' to avoid this warning.\n",
      "  \"avoid this warning.\", FutureWarning)\n",
      "C:\\Users\\woobi\\Anaconda3\\envs\\jupyter100\\lib\\site-packages\\sklearn\\svm\\base.py:196: FutureWarning: The default value of gamma will change from 'auto' to 'scale' in version 0.22 to account better for unscaled features. Set gamma explicitly to 'auto' or 'scale' to avoid this warning.\n",
      "  \"avoid this warning.\", FutureWarning)\n",
      "C:\\Users\\woobi\\Anaconda3\\envs\\jupyter100\\lib\\site-packages\\sklearn\\svm\\base.py:196: FutureWarning: The default value of gamma will change from 'auto' to 'scale' in version 0.22 to account better for unscaled features. Set gamma explicitly to 'auto' or 'scale' to avoid this warning.\n",
      "  \"avoid this warning.\", FutureWarning)\n",
      "C:\\Users\\woobi\\Anaconda3\\envs\\jupyter100\\lib\\site-packages\\sklearn\\svm\\base.py:196: FutureWarning: The default value of gamma will change from 'auto' to 'scale' in version 0.22 to account better for unscaled features. Set gamma explicitly to 'auto' or 'scale' to avoid this warning.\n",
      "  \"avoid this warning.\", FutureWarning)\n",
      "C:\\Users\\woobi\\Anaconda3\\envs\\jupyter100\\lib\\site-packages\\sklearn\\svm\\base.py:196: FutureWarning: The default value of gamma will change from 'auto' to 'scale' in version 0.22 to account better for unscaled features. Set gamma explicitly to 'auto' or 'scale' to avoid this warning.\n",
      "  \"avoid this warning.\", FutureWarning)\n",
      "C:\\Users\\woobi\\Anaconda3\\envs\\jupyter100\\lib\\site-packages\\sklearn\\svm\\base.py:196: FutureWarning: The default value of gamma will change from 'auto' to 'scale' in version 0.22 to account better for unscaled features. Set gamma explicitly to 'auto' or 'scale' to avoid this warning.\n",
      "  \"avoid this warning.\", FutureWarning)\n",
      "C:\\Users\\woobi\\Anaconda3\\envs\\jupyter100\\lib\\site-packages\\sklearn\\svm\\base.py:196: FutureWarning: The default value of gamma will change from 'auto' to 'scale' in version 0.22 to account better for unscaled features. Set gamma explicitly to 'auto' or 'scale' to avoid this warning.\n",
      "  \"avoid this warning.\", FutureWarning)\n",
      "C:\\Users\\woobi\\Anaconda3\\envs\\jupyter100\\lib\\site-packages\\sklearn\\svm\\base.py:196: FutureWarning: The default value of gamma will change from 'auto' to 'scale' in version 0.22 to account better for unscaled features. Set gamma explicitly to 'auto' or 'scale' to avoid this warning.\n",
      "  \"avoid this warning.\", FutureWarning)\n"
     ]
    },
    {
     "name": "stdout",
     "output_type": "stream",
     "text": [
      "Fitting 3 folds for each of 14 candidates, totalling 42 fits\n",
      "[CV] C=0.01, kernel=linear ...........................................\n",
      "[CV] ............................ C=0.01, kernel=linear, total=   0.0s\n",
      "[CV] C=0.01, kernel=linear ...........................................\n",
      "[CV] ............................ C=0.01, kernel=linear, total=   0.0s\n",
      "[CV] C=0.01, kernel=linear ...........................................\n",
      "[CV] ............................ C=0.01, kernel=linear, total=   0.0s\n",
      "[CV] C=0.01, kernel=rbf ..............................................\n",
      "[CV] ............................... C=0.01, kernel=rbf, total=   0.0s\n",
      "[CV] C=0.01, kernel=rbf ..............................................\n",
      "[CV] ............................... C=0.01, kernel=rbf, total=   0.0s\n",
      "[CV] C=0.01, kernel=rbf ..............................................\n",
      "[CV] ............................... C=0.01, kernel=rbf, total=   0.0s\n",
      "[CV] C=0.1, kernel=linear ............................................\n",
      "[CV] ............................. C=0.1, kernel=linear, total=   0.0s\n",
      "[CV] C=0.1, kernel=linear ............................................\n",
      "[CV] ............................. C=0.1, kernel=linear, total=   0.0s\n",
      "[CV] C=0.1, kernel=linear ............................................\n",
      "[CV] ............................. C=0.1, kernel=linear, total=   0.0s\n",
      "[CV] C=0.1, kernel=rbf ...............................................\n",
      "[CV] ................................ C=0.1, kernel=rbf, total=   0.0s\n",
      "[CV] C=0.1, kernel=rbf ...............................................\n",
      "[CV] ................................ C=0.1, kernel=rbf, total=   0.0s\n",
      "[CV] C=0.1, kernel=rbf ...............................................\n",
      "[CV] ................................ C=0.1, kernel=rbf, total=   0.0s\n",
      "[CV] C=1.0, kernel=linear ............................................\n",
      "[CV] ............................. C=1.0, kernel=linear, total=   0.0s\n",
      "[CV] C=1.0, kernel=linear ............................................\n",
      "[CV] ............................. C=1.0, kernel=linear, total=   0.0s\n",
      "[CV] C=1.0, kernel=linear ............................................\n",
      "[CV] ............................. C=1.0, kernel=linear, total=   0.0s\n",
      "[CV] C=1.0, kernel=rbf ...............................................\n",
      "[CV] ................................ C=1.0, kernel=rbf, total=   0.0s\n",
      "[CV] C=1.0, kernel=rbf ...............................................\n",
      "[CV] ................................ C=1.0, kernel=rbf, total=   0.0s\n",
      "[CV] C=1.0, kernel=rbf ...............................................\n",
      "[CV] ................................ C=1.0, kernel=rbf, total=   0.0s\n",
      "[CV] C=10.0, kernel=linear ...........................................\n",
      "[CV] ............................ C=10.0, kernel=linear, total=   0.0s\n",
      "[CV] C=10.0, kernel=linear ...........................................\n",
      "[CV] ............................ C=10.0, kernel=linear, total=   0.0s\n",
      "[CV] C=10.0, kernel=linear ...........................................\n",
      "[CV] ............................ C=10.0, kernel=linear, total=   0.0s\n",
      "[CV] C=10.0, kernel=rbf ..............................................\n",
      "[CV] ............................... C=10.0, kernel=rbf, total=   0.0s\n",
      "[CV] C=10.0, kernel=rbf ..............................................\n",
      "[CV] ............................... C=10.0, kernel=rbf, total=   0.0s\n",
      "[CV] C=10.0, kernel=rbf ..............................................\n",
      "[CV] ............................... C=10.0, kernel=rbf, total=   0.0s\n",
      "[CV] C=100.0, kernel=linear ..........................................\n",
      "[CV] ........................... C=100.0, kernel=linear, total=   0.0s\n",
      "[CV] C=100.0, kernel=linear ..........................................\n",
      "[CV] ........................... C=100.0, kernel=linear, total=   0.0s\n",
      "[CV] C=100.0, kernel=linear ..........................................\n",
      "[CV] ........................... C=100.0, kernel=linear, total=   0.0s\n",
      "[CV] C=100.0, kernel=rbf .............................................\n",
      "[CV] .............................. C=100.0, kernel=rbf, total=   0.0s\n",
      "[CV] C=100.0, kernel=rbf .............................................\n",
      "[CV] .............................. C=100.0, kernel=rbf, total=   0.0s\n",
      "[CV] C=100.0, kernel=rbf .............................................\n",
      "[CV] .............................. C=100.0, kernel=rbf, total=   0.0s\n",
      "[CV] C=1000.0, kernel=linear .........................................\n",
      "[CV] .......................... C=1000.0, kernel=linear, total=   0.0s\n",
      "[CV] C=1000.0, kernel=linear .........................................\n",
      "[CV] .......................... C=1000.0, kernel=linear, total=   0.0s\n",
      "[CV] C=1000.0, kernel=linear .........................................\n",
      "[CV] .......................... C=1000.0, kernel=linear, total=   0.0s\n",
      "[CV] C=1000.0, kernel=rbf ............................................\n",
      "[CV] ............................. C=1000.0, kernel=rbf, total=   0.0s\n",
      "[CV] C=1000.0, kernel=rbf ............................................\n",
      "[CV] ............................. C=1000.0, kernel=rbf, total=   0.0s\n",
      "[CV] C=1000.0, kernel=rbf ............................................\n",
      "[CV] ............................. C=1000.0, kernel=rbf, total=   0.0s\n",
      "[CV] C=10000.0, kernel=linear ........................................\n",
      "[CV] ......................... C=10000.0, kernel=linear, total=   0.0s\n",
      "[CV] C=10000.0, kernel=linear ........................................\n",
      "[CV] ......................... C=10000.0, kernel=linear, total=   0.0s\n",
      "[CV] C=10000.0, kernel=linear ........................................\n",
      "[CV] ......................... C=10000.0, kernel=linear, total=   0.0s\n",
      "[CV] C=10000.0, kernel=rbf ...........................................\n",
      "[CV] ............................ C=10000.0, kernel=rbf, total=   0.0s\n",
      "[CV] C=10000.0, kernel=rbf ...........................................\n",
      "[CV] ............................ C=10000.0, kernel=rbf, total=   0.0s\n",
      "[CV] C=10000.0, kernel=rbf ...........................................\n",
      "[CV] ............................ C=10000.0, kernel=rbf, total=   0.0s\n"
     ]
    },
    {
     "name": "stderr",
     "output_type": "stream",
     "text": [
      "C:\\Users\\woobi\\Anaconda3\\envs\\jupyter100\\lib\\site-packages\\sklearn\\svm\\base.py:196: FutureWarning: The default value of gamma will change from 'auto' to 'scale' in version 0.22 to account better for unscaled features. Set gamma explicitly to 'auto' or 'scale' to avoid this warning.\n",
      "  \"avoid this warning.\", FutureWarning)\n",
      "C:\\Users\\woobi\\Anaconda3\\envs\\jupyter100\\lib\\site-packages\\sklearn\\svm\\base.py:196: FutureWarning: The default value of gamma will change from 'auto' to 'scale' in version 0.22 to account better for unscaled features. Set gamma explicitly to 'auto' or 'scale' to avoid this warning.\n",
      "  \"avoid this warning.\", FutureWarning)\n",
      "C:\\Users\\woobi\\Anaconda3\\envs\\jupyter100\\lib\\site-packages\\sklearn\\svm\\base.py:196: FutureWarning: The default value of gamma will change from 'auto' to 'scale' in version 0.22 to account better for unscaled features. Set gamma explicitly to 'auto' or 'scale' to avoid this warning.\n",
      "  \"avoid this warning.\", FutureWarning)\n",
      "C:\\Users\\woobi\\Anaconda3\\envs\\jupyter100\\lib\\site-packages\\sklearn\\svm\\base.py:196: FutureWarning: The default value of gamma will change from 'auto' to 'scale' in version 0.22 to account better for unscaled features. Set gamma explicitly to 'auto' or 'scale' to avoid this warning.\n",
      "  \"avoid this warning.\", FutureWarning)\n",
      "C:\\Users\\woobi\\Anaconda3\\envs\\jupyter100\\lib\\site-packages\\sklearn\\svm\\base.py:196: FutureWarning: The default value of gamma will change from 'auto' to 'scale' in version 0.22 to account better for unscaled features. Set gamma explicitly to 'auto' or 'scale' to avoid this warning.\n",
      "  \"avoid this warning.\", FutureWarning)\n",
      "C:\\Users\\woobi\\Anaconda3\\envs\\jupyter100\\lib\\site-packages\\sklearn\\svm\\base.py:196: FutureWarning: The default value of gamma will change from 'auto' to 'scale' in version 0.22 to account better for unscaled features. Set gamma explicitly to 'auto' or 'scale' to avoid this warning.\n",
      "  \"avoid this warning.\", FutureWarning)\n",
      "C:\\Users\\woobi\\Anaconda3\\envs\\jupyter100\\lib\\site-packages\\sklearn\\svm\\base.py:196: FutureWarning: The default value of gamma will change from 'auto' to 'scale' in version 0.22 to account better for unscaled features. Set gamma explicitly to 'auto' or 'scale' to avoid this warning.\n",
      "  \"avoid this warning.\", FutureWarning)\n",
      "C:\\Users\\woobi\\Anaconda3\\envs\\jupyter100\\lib\\site-packages\\sklearn\\svm\\base.py:196: FutureWarning: The default value of gamma will change from 'auto' to 'scale' in version 0.22 to account better for unscaled features. Set gamma explicitly to 'auto' or 'scale' to avoid this warning.\n",
      "  \"avoid this warning.\", FutureWarning)\n",
      "C:\\Users\\woobi\\Anaconda3\\envs\\jupyter100\\lib\\site-packages\\sklearn\\svm\\base.py:196: FutureWarning: The default value of gamma will change from 'auto' to 'scale' in version 0.22 to account better for unscaled features. Set gamma explicitly to 'auto' or 'scale' to avoid this warning.\n",
      "  \"avoid this warning.\", FutureWarning)\n",
      "C:\\Users\\woobi\\Anaconda3\\envs\\jupyter100\\lib\\site-packages\\sklearn\\svm\\base.py:196: FutureWarning: The default value of gamma will change from 'auto' to 'scale' in version 0.22 to account better for unscaled features. Set gamma explicitly to 'auto' or 'scale' to avoid this warning.\n",
      "  \"avoid this warning.\", FutureWarning)\n",
      "C:\\Users\\woobi\\Anaconda3\\envs\\jupyter100\\lib\\site-packages\\sklearn\\svm\\base.py:196: FutureWarning: The default value of gamma will change from 'auto' to 'scale' in version 0.22 to account better for unscaled features. Set gamma explicitly to 'auto' or 'scale' to avoid this warning.\n",
      "  \"avoid this warning.\", FutureWarning)\n",
      "C:\\Users\\woobi\\Anaconda3\\envs\\jupyter100\\lib\\site-packages\\sklearn\\svm\\base.py:196: FutureWarning: The default value of gamma will change from 'auto' to 'scale' in version 0.22 to account better for unscaled features. Set gamma explicitly to 'auto' or 'scale' to avoid this warning.\n",
      "  \"avoid this warning.\", FutureWarning)\n",
      "[Parallel(n_jobs=1)]: Done  42 out of  42 | elapsed:    0.2s finished\n",
      "C:\\Users\\woobi\\Anaconda3\\envs\\jupyter100\\lib\\site-packages\\sklearn\\svm\\base.py:196: FutureWarning: The default value of gamma will change from 'auto' to 'scale' in version 0.22 to account better for unscaled features. Set gamma explicitly to 'auto' or 'scale' to avoid this warning.\n",
      "  \"avoid this warning.\", FutureWarning)\n"
     ]
    },
    {
     "data": {
      "text/plain": [
       "GridSearchCV(cv='warn', error_score='raise-deprecating',\n",
       "       estimator=SVC(C=1.0, cache_size=200, class_weight=None, coef0=0.0,\n",
       "  decision_function_shape='ovr', degree=3, gamma='auto_deprecated',\n",
       "  kernel='rbf', max_iter=-1, probability=False, random_state=None,\n",
       "  shrinking=True, tol=0.001, verbose=False),\n",
       "       fit_params=None, iid='warn', n_jobs=1,\n",
       "       param_grid={'C': array([1.e-02, 1.e-01, 1.e+00, 1.e+01, 1.e+02, 1.e+03, 1.e+04]), 'kernel': ['linear', 'rbf']},\n",
       "       pre_dispatch='2*n_jobs', refit=True, return_train_score='warn',\n",
       "       scoring=None, verbose=2)"
      ]
     },
     "execution_count": 19,
     "metadata": {},
     "output_type": "execute_result"
    }
   ],
   "source": [
    "from sklearn.svm import SVC\n",
    "\n",
    "clf = SVC()\n",
    "\n",
    "C_range_exp = np.arange(-2.0, 5.0)\n",
    "C_range = 10 ** C_range_exp\n",
    "\n",
    "param = {'C': C_range, \n",
    "        'kernel':['linear', 'rbf']}\n",
    "\n",
    "gs = GridSearchCV(clf, param, n_jobs=1, verbose=2)\n",
    "gs.fit(X_train, y_train)"
   ]
  },
  {
   "cell_type": "code",
   "execution_count": 20,
   "metadata": {},
   "outputs": [
    {
     "data": {
      "text/plain": [
       "({'C': 100.0, 'kernel': 'rbf'},\n",
       " 0.9714285714285714,\n",
       " SVC(C=100.0, cache_size=200, class_weight=None, coef0=0.0,\n",
       "   decision_function_shape='ovr', degree=3, gamma='auto_deprecated',\n",
       "   kernel='rbf', max_iter=-1, probability=False, random_state=None,\n",
       "   shrinking=True, tol=0.001, verbose=False))"
      ]
     },
     "execution_count": 20,
     "metadata": {},
     "output_type": "execute_result"
    }
   ],
   "source": [
    "gs.best_params_, gs.best_score_, gs.best_estimator_"
   ]
  },
  {
   "cell_type": "code",
   "execution_count": 21,
   "metadata": {
    "scrolled": true
   },
   "outputs": [
    {
     "name": "stderr",
     "output_type": "stream",
     "text": [
      "C:\\Users\\woobi\\Anaconda3\\envs\\jupyter100\\lib\\site-packages\\numpy\\ma\\core.py:3174: FutureWarning: Using a non-tuple sequence for multidimensional indexing is deprecated; use `arr[tuple(seq)]` instead of `arr[seq]`. In the future this will be interpreted as an array index, `arr[np.array(seq)]`, which will result either in an error or a different result.\n",
      "  dout = self.data[indx]\n",
      "C:\\Users\\woobi\\Anaconda3\\envs\\jupyter100\\lib\\site-packages\\numpy\\ma\\core.py:3206: FutureWarning: Using a non-tuple sequence for multidimensional indexing is deprecated; use `arr[tuple(seq)]` instead of `arr[seq]`. In the future this will be interpreted as an array index, `arr[np.array(seq)]`, which will result either in an error or a different result.\n",
      "  mout = _mask[indx]\n",
      "C:\\Users\\woobi\\Anaconda3\\envs\\jupyter100\\lib\\site-packages\\sklearn\\utils\\deprecation.py:125: FutureWarning: You are accessing a training score ('mean_train_score'), which will not be available by default any more in 0.21. If you need training scores, please set return_train_score=True\n",
      "  warnings.warn(*warn_args, **warn_kwargs)\n",
      "C:\\Users\\woobi\\Anaconda3\\envs\\jupyter100\\lib\\site-packages\\ipykernel_launcher.py:4: FutureWarning: Using a non-tuple sequence for multidimensional indexing is deprecated; use `arr[tuple(seq)]` instead of `arr[seq]`. In the future this will be interpreted as an array index, `arr[np.array(seq)]`, which will result either in an error or a different result.\n",
      "  after removing the cwd from sys.path.\n",
      "C:\\Users\\woobi\\Anaconda3\\envs\\jupyter100\\lib\\site-packages\\ipykernel_launcher.py:8: FutureWarning: Using a non-tuple sequence for multidimensional indexing is deprecated; use `arr[tuple(seq)]` instead of `arr[seq]`. In the future this will be interpreted as an array index, `arr[np.array(seq)]`, which will result either in an error or a different result.\n",
      "  \n",
      "C:\\Users\\woobi\\Anaconda3\\envs\\jupyter100\\lib\\site-packages\\ipykernel_launcher.py:15: FutureWarning: Using a non-tuple sequence for multidimensional indexing is deprecated; use `arr[tuple(seq)]` instead of `arr[seq]`. In the future this will be interpreted as an array index, `arr[np.array(seq)]`, which will result either in an error or a different result.\n",
      "  from ipykernel import kernelapp as app\n",
      "C:\\Users\\woobi\\Anaconda3\\envs\\jupyter100\\lib\\site-packages\\ipykernel_launcher.py:19: FutureWarning: Using a non-tuple sequence for multidimensional indexing is deprecated; use `arr[tuple(seq)]` instead of `arr[seq]`. In the future this will be interpreted as an array index, `arr[np.array(seq)]`, which will result either in an error or a different result.\n"
     ]
    },
    {
     "data": {
      "text/plain": [
       "<matplotlib.legend.Legend at 0x22fe317d630>"
      ]
     },
     "execution_count": 21,
     "metadata": {},
     "output_type": "execute_result"
    },
    {
     "data": {
      "image/png": "[encoded data removed]",
      "text/plain": [
       "<Figure size 432x288 with 1 Axes>"
      ]
     },
     "metadata": {
      "needs_background": "light"
     },
     "output_type": "display_data"
    }
   ],
   "source": [
    "s_linear = [gs.cv_results_['param_kernel'] == 'linear']\n",
    "\n",
    "plt.plot(gs.cv_results_['param_C'][s_linear].data,\n",
    "         gs.cv_results_['mean_train_score'][s_linear],\n",
    "         label=\"training (linear)\")\n",
    "\n",
    "plt.plot(gs.cv_results_['param_C'][s_linear].data,\n",
    "         gs.cv_results_['mean_test_score'][s_linear],\n",
    "         linestyle=\"--\",\n",
    "         label=\"test/val (linear)\")\n",
    "\n",
    "s_rbf = [gs.cv_results_['param_kernel'] == 'rbf']\n",
    "\n",
    "plt.plot(gs.cv_results_['param_C'][s_rbf].data,\n",
    "         gs.cv_results_['mean_train_score'][s_rbf],\n",
    "         label=\"training (rbf)\")\n",
    "\n",
    "plt.plot(gs.cv_results_['param_C'][s_rbf].data,\n",
    "         gs.cv_results_['mean_test_score'][s_rbf],\n",
    "         linestyle=\"--\",\n",
    "         label=\"test/val (rbf)\")\n",
    "\n",
    "plt.ylim(.6, 1.01)\n",
    "plt.xscale(\"log\")\n",
    "plt.xlabel(\"C\")\n",
    "plt.ylabel(\"accuracy\")\n",
    "plt.legend(bbox_to_anchor=(1.05, 1), loc=2, borderaxespad=0.)"
   ]
  },
  {
   "cell_type": "code",
   "execution_count": 22,
   "metadata": {},
   "outputs": [
    {
     "data": {
      "text/plain": [
       "0.9649122807017544"
      ]
     },
     "execution_count": 22,
     "metadata": {},
     "output_type": "execute_result"
    }
   ],
   "source": [
    "gs.score(X_test, y_test)"
   ]
  },
  {
   "cell_type": "code",
   "execution_count": 23,
   "metadata": {},
   "outputs": [
    {
     "data": {
      "text/plain": [
       "'auto_deprecated'"
      ]
     },
     "execution_count": 23,
     "metadata": {},
     "output_type": "execute_result"
    }
   ],
   "source": [
    "SVC(kernel='rbf').gamma"
   ]
  },
  {
   "cell_type": "code",
   "execution_count": 24,
   "metadata": {},
   "outputs": [
    {
     "name": "stderr",
     "output_type": "stream",
     "text": [
      "C:\\Users\\woobi\\Anaconda3\\envs\\jupyter100\\lib\\site-packages\\sklearn\\model_selection\\_split.py:2053: FutureWarning: You should specify a value for 'cv' instead of relying on the default value. The default value will change from 3 to 5 in version 0.22.\n",
      "  warnings.warn(CV_WARNING, FutureWarning)\n",
      "[Parallel(n_jobs=-1)]: Using backend LokyBackend with 4 concurrent workers.\n"
     ]
    },
    {
     "name": "stdout",
     "output_type": "stream",
     "text": [
      "Fitting 3 folds for each of 60 candidates, totalling 180 fits\n"
     ]
    },
    {
     "name": "stderr",
     "output_type": "stream",
     "text": [
      "[Parallel(n_jobs=-1)]: Done  40 tasks      | elapsed:    2.3s\n",
      "[Parallel(n_jobs=-1)]: Done 180 out of 180 | elapsed:    3.0s finished\n"
     ]
    },
    {
     "data": {
      "text/plain": [
       "GridSearchCV(cv='warn', error_score='raise-deprecating',\n",
       "       estimator=SVC(C=1.0, cache_size=200, class_weight=None, coef0=0.0,\n",
       "  decision_function_shape='ovr', degree=3, gamma='auto_deprecated',\n",
       "  kernel='rbf', max_iter=-1, probability=False, random_state=None,\n",
       "  shrinking=True, tol=0.001, verbose=False),\n",
       "       fit_params=None, iid='warn', n_jobs=-1,\n",
       "       param_grid=[{'C': array([1.e-02, 1.e-01, 1.e+00, 1.e+01, 1.e+02, 1.e+03, 1.e+04, 1.e+05,\n",
       "       1.e+06, 1.e+07, 1.e+08, 1.e+09]), 'kernel': ['linear']}, {'C': array([1.e-02, 1.e-01, 1.e+00, 1.e+01, 1.e+02, 1.e+03, 1.e+04, 1.e+05,\n",
       "       1.e+06, 1.e+07, 1.e+08, 1.e+09]), 'gamma': array([1.e-10, 1.e-07, 1.e-04, 1.e-01]), 'kernel': ['rbf']}],\n",
       "       pre_dispatch='2*n_jobs', refit=True, return_train_score='warn',\n",
       "       scoring=None, verbose=2)"
      ]
     },
     "execution_count": 24,
     "metadata": {},
     "output_type": "execute_result"
    }
   ],
   "source": [
    "from sklearn.svm import SVC\n",
    "\n",
    "clf = SVC()\n",
    "\n",
    "C_range_exp = np.arange(-2.0, 10.0)\n",
    "C_range = 10 ** C_range_exp\n",
    "\n",
    "gamma_range_exp = np.arange(-10.0, 0.0, 3)\n",
    "gamma_range = 10 ** gamma_range_exp\n",
    "\n",
    "param = [{'C':C_range,\n",
    "          'kernel': ['linear']},\n",
    "         {'C':C_range,\n",
    "          'gamma': gamma_range,\n",
    "          'kernel':['rbf']}]\n",
    "\n",
    "gs = GridSearchCV(clf, param, n_jobs=-1, verbose=2)\n",
    "gs.fit(X_train, y_train)"
   ]
  },
  {
   "cell_type": "code",
   "execution_count": 25,
   "metadata": {},
   "outputs": [
    {
     "data": {
      "text/plain": [
       "({'C': 10.0, 'gamma': 0.1, 'kernel': 'rbf'},\n",
       " 0.9736263736263736,\n",
       " SVC(C=10.0, cache_size=200, class_weight=None, coef0=0.0,\n",
       "   decision_function_shape='ovr', degree=3, gamma=0.1, kernel='rbf',\n",
       "   max_iter=-1, probability=False, random_state=None, shrinking=True,\n",
       "   tol=0.001, verbose=False))"
      ]
     },
     "execution_count": 25,
     "metadata": {},
     "output_type": "execute_result"
    }
   ],
   "source": [
    "gs.best_params_, gs.best_score_, gs.best_estimator_"
   ]
  },
  {
   "cell_type": "code",
   "execution_count": 26,
   "metadata": {
    "scrolled": true
   },
   "outputs": [
    {
     "name": "stderr",
     "output_type": "stream",
     "text": [
      "C:\\Users\\woobi\\Anaconda3\\envs\\jupyter100\\lib\\site-packages\\numpy\\ma\\core.py:3174: FutureWarning: Using a non-tuple sequence for multidimensional indexing is deprecated; use `arr[tuple(seq)]` instead of `arr[seq]`. In the future this will be interpreted as an array index, `arr[np.array(seq)]`, which will result either in an error or a different result.\n",
      "  dout = self.data[indx]\n",
      "C:\\Users\\woobi\\Anaconda3\\envs\\jupyter100\\lib\\site-packages\\numpy\\ma\\core.py:3206: FutureWarning: Using a non-tuple sequence for multidimensional indexing is deprecated; use `arr[tuple(seq)]` instead of `arr[seq]`. In the future this will be interpreted as an array index, `arr[np.array(seq)]`, which will result either in an error or a different result.\n",
      "  mout = _mask[indx]\n",
      "C:\\Users\\woobi\\Anaconda3\\envs\\jupyter100\\lib\\site-packages\\sklearn\\utils\\deprecation.py:125: FutureWarning: You are accessing a training score ('mean_train_score'), which will not be available by default any more in 0.21. If you need training scores, please set return_train_score=True\n",
      "  warnings.warn(*warn_args, **warn_kwargs)\n",
      "C:\\Users\\woobi\\Anaconda3\\envs\\jupyter100\\lib\\site-packages\\ipykernel_launcher.py:4: FutureWarning: Using a non-tuple sequence for multidimensional indexing is deprecated; use `arr[tuple(seq)]` instead of `arr[seq]`. In the future this will be interpreted as an array index, `arr[np.array(seq)]`, which will result either in an error or a different result.\n",
      "  after removing the cwd from sys.path.\n",
      "C:\\Users\\woobi\\Anaconda3\\envs\\jupyter100\\lib\\site-packages\\ipykernel_launcher.py:8: FutureWarning: Using a non-tuple sequence for multidimensional indexing is deprecated; use `arr[tuple(seq)]` instead of `arr[seq]`. In the future this will be interpreted as an array index, `arr[np.array(seq)]`, which will result either in an error or a different result.\n",
      "  \n",
      "C:\\Users\\woobi\\Anaconda3\\envs\\jupyter100\\lib\\site-packages\\ipykernel_launcher.py:18: FutureWarning: Using a non-tuple sequence for multidimensional indexing is deprecated; use `arr[tuple(seq)]` instead of `arr[seq]`. In the future this will be interpreted as an array index, `arr[np.array(seq)]`, which will result either in an error or a different result.\n",
      "C:\\Users\\woobi\\Anaconda3\\envs\\jupyter100\\lib\\site-packages\\ipykernel_launcher.py:22: FutureWarning: Using a non-tuple sequence for multidimensional indexing is deprecated; use `arr[tuple(seq)]` instead of `arr[seq]`. In the future this will be interpreted as an array index, `arr[np.array(seq)]`, which will result either in an error or a different result.\n"
     ]
    },
    {
     "data": {
      "text/plain": [
       "<matplotlib.legend.Legend at 0x22fe327bcc0>"
      ]
     },
     "execution_count": 26,
     "metadata": {},
     "output_type": "execute_result"
    },
    {
     "data": {
      "image/png": "[encoded data removed]",
      "text/plain": [
       "<Figure size 432x288 with 1 Axes>"
      ]
     },
     "metadata": {
      "needs_background": "light"
     },
     "output_type": "display_data"
    }
   ],
   "source": [
    "s_linear = [gs.cv_results_['param_kernel'] == 'linear']\n",
    "\n",
    "plt.plot(gs.cv_results_['param_C'][s_linear].data,\n",
    "         gs.cv_results_['mean_train_score'][s_linear],\n",
    "         label=\"training (linear)\")\n",
    "\n",
    "plt.plot(gs.cv_results_['param_C'][s_linear].data,\n",
    "         gs.cv_results_['mean_test_score'][s_linear],\n",
    "         linestyle=\"--\",\n",
    "         label=\"test/val (linear)\")\n",
    "\n",
    "s_rbf = [gs.cv_results_['param_kernel'] == 'rbf']\n",
    "\n",
    "for g in gamma_range:\n",
    "    s_gamma = gs.cv_results_['param_gamma'][s_rbf].data == g\n",
    "    \n",
    "    plt.plot(gs.cv_results_['param_C'][s_rbf][s_gamma].data,\n",
    "             gs.cv_results_['mean_train_score'][s_rbf][s_gamma],\n",
    "             label=\"training (rbf, gamma {0:.0e})\".format(g))\n",
    "    \n",
    "    plt.plot(gs.cv_results_['param_C'][s_rbf][s_gamma].data,\n",
    "             gs.cv_results_['mean_test_score'][s_rbf][s_gamma],\n",
    "             linestyle=\"--\",\n",
    "             label=\"training (rbf, gamma {0:.0e})\".format(g))\n",
    "    \n",
    "plt.ylim(.6, 1.01)\n",
    "plt.xscale(\"log\")\n",
    "plt.xlabel(\"C\")\n",
    "plt.ylabel(\"accuracy\")\n",
    "plt.legend(bbox_to_anchor=(1.05, 1), loc=2, borderaxespad=0.)"
   ]
  },
  {
   "cell_type": "code",
   "execution_count": 27,
   "metadata": {},
   "outputs": [
    {
     "data": {
      "text/plain": [
       "0.9649122807017544"
      ]
     },
     "execution_count": 27,
     "metadata": {},
     "output_type": "execute_result"
    }
   ],
   "source": [
    "gs.score(X_test, y_test)"
   ]
  },
  {
   "cell_type": "code",
   "execution_count": 28,
   "metadata": {},
   "outputs": [],
   "source": [
    "from sklearn.neighbors import KNeighborsClassifier\n",
    "\n",
    "clf = KNeighborsClassifier()"
   ]
  },
  {
   "cell_type": "code",
   "execution_count": 29,
   "metadata": {},
   "outputs": [
    {
     "name": "stderr",
     "output_type": "stream",
     "text": [
      "C:\\Users\\woobi\\Anaconda3\\envs\\jupyter100\\lib\\site-packages\\sklearn\\model_selection\\_split.py:2053: FutureWarning: You should specify a value for 'cv' instead of relying on the default value. The default value will change from 3 to 5 in version 0.22.\n",
      "  warnings.warn(CV_WARNING, FutureWarning)\n"
     ]
    },
    {
     "data": {
      "text/plain": [
       "GridSearchCV(cv='warn', error_score='raise-deprecating',\n",
       "       estimator=KNeighborsClassifier(algorithm='auto', leaf_size=30, metric='minkowski',\n",
       "           metric_params=None, n_jobs=None, n_neighbors=5, p=2,\n",
       "           weights='uniform'),\n",
       "       fit_params=None, iid='warn', n_jobs=None,\n",
       "       param_grid={'n_neighbors': range(1, 20)}, pre_dispatch='2*n_jobs',\n",
       "       refit=True, return_train_score='warn', scoring=None, verbose=0)"
      ]
     },
     "execution_count": 29,
     "metadata": {},
     "output_type": "execute_result"
    }
   ],
   "source": [
    "param = {'n_neighbors':range(1,20)}\n",
    "gs = GridSearchCV(clf, param)\n",
    "gs.fit(X_train, y_train)"
   ]
  },
  {
   "cell_type": "code",
   "execution_count": 30,
   "metadata": {},
   "outputs": [
    {
     "data": {
      "text/plain": [
       "({'n_neighbors': 5},\n",
       " 0.9648351648351648,\n",
       " KNeighborsClassifier(algorithm='auto', leaf_size=30, metric='minkowski',\n",
       "            metric_params=None, n_jobs=None, n_neighbors=5, p=2,\n",
       "            weights='uniform'))"
      ]
     },
     "execution_count": 30,
     "metadata": {},
     "output_type": "execute_result"
    }
   ],
   "source": [
    "gs.best_params_, gs.best_score_, gs.best_estimator_"
   ]
  },
  {
   "cell_type": "code",
   "execution_count": 31,
   "metadata": {},
   "outputs": [
    {
     "name": "stderr",
     "output_type": "stream",
     "text": [
      "C:\\Users\\woobi\\Anaconda3\\envs\\jupyter100\\lib\\site-packages\\sklearn\\utils\\deprecation.py:125: FutureWarning: You are accessing a training score ('mean_train_score'), which will not be available by default any more in 0.21. If you need training scores, please set return_train_score=True\n",
      "  warnings.warn(*warn_args, **warn_kwargs)\n",
      "C:\\Users\\woobi\\Anaconda3\\envs\\jupyter100\\lib\\site-packages\\sklearn\\utils\\deprecation.py:125: FutureWarning: You are accessing a training score ('std_train_score'), which will not be available by default any more in 0.21. If you need training scores, please set return_train_score=True\n",
      "  warnings.warn(*warn_args, **warn_kwargs)\n"
     ]
    },
    {
     "data": {
      "image/png": "[encoded data removed]",
      "text/plain": [
       "<Figure size 432x288 with 1 Axes>"
      ]
     },
     "metadata": {
      "needs_background": "light"
     },
     "output_type": "display_data"
    }
   ],
   "source": [
    "plt.errorbar(gs.cv_results_['param_n_neighbors'].data,\n",
    "             gs.cv_results_['mean_train_score'],\n",
    "             yerr=gs.cv_results_['std_train_score'],\n",
    "             label=\"training\")\n",
    "\n",
    "plt.errorbar(gs.cv_results_['param_n_neighbors'].data,\n",
    "             gs.cv_results_['mean_test_score'],\n",
    "             yerr=gs.cv_results_['std_test_score'],\n",
    "             label=\"test(val)\")\n",
    "\n",
    "plt.ylim(.6, 1.01)\n",
    "plt.xlabel(\"# neighbors\")\n",
    "plt.ylabel(\"accuracy\")\n",
    "plt.legend(loc=\"best\");"
   ]
  },
  {
   "cell_type": "code",
   "execution_count": 32,
   "metadata": {},
   "outputs": [
    {
     "data": {
      "text/plain": [
       "0.956140350877193"
      ]
     },
     "execution_count": 32,
     "metadata": {},
     "output_type": "execute_result"
    }
   ],
   "source": [
    "gs.score(X_test, y_test)"
   ]
  },
  {
   "cell_type": "code",
   "execution_count": 33,
   "metadata": {},
   "outputs": [
    {
     "data": {
      "text/plain": [
       "MLPClassifier(activation='relu', alpha=0.0001, batch_size='auto', beta_1=0.9,\n",
       "       beta_2=0.999, early_stopping=False, epsilon=1e-08,\n",
       "       hidden_layer_sizes=(100,), learning_rate='constant',\n",
       "       learning_rate_init=0.001, max_iter=2000, momentum=0.9,\n",
       "       n_iter_no_change=10, nesterovs_momentum=True, power_t=0.5,\n",
       "       random_state=None, shuffle=True, solver='adam', tol=0.0001,\n",
       "       validation_fraction=0.1, verbose=False, warm_start=False)"
      ]
     },
     "execution_count": 33,
     "metadata": {},
     "output_type": "execute_result"
    }
   ],
   "source": [
    "from sklearn.neural_network import MLPClassifier\n",
    "\n",
    "clf = MLPClassifier(max_iter=2000)\n",
    "clf"
   ]
  },
  {
   "cell_type": "code",
   "execution_count": 34,
   "metadata": {},
   "outputs": [],
   "source": [
    "param = {'hidden_layer_sizes': [(10,), (50,), (100,),\n",
    "                                (10,10,), (50,50,), (100,100,),\n",
    "                                (10, 5,), (5,5,), (30, 20, 10),\n",
    "                                (100,1000,50,), (1000,100,50,),\n",
    "                                (10,10,10), (50,50,50), (100,100,100,),\n",
    "                                ],\n",
    "          'activation' : ['identity', 'logistic', 'tanh', 'relu'],\n",
    "          'beta_1' : [0.9, 0.8, 0.7, 0.6, 0.5],\n",
    "          'beta_2' : [0.999, 0.9, 0.8, 0.7],\n",
    "          'alpha' : [1e-5, 1e-4, 1e-3, 1e-2, 1e-1, 1]\n",
    "        }"
   ]
  },
  {
   "cell_type": "code",
   "execution_count": 35,
   "metadata": {},
   "outputs": [],
   "source": [
    "gs = GridSearchCV(clf, param, n_jobs=-1, verbose=1)"
   ]
  },
  {
   "cell_type": "code",
   "execution_count": 36,
   "metadata": {},
   "outputs": [
    {
     "name": "stderr",
     "output_type": "stream",
     "text": [
      "C:\\Users\\woobi\\Anaconda3\\envs\\jupyter100\\lib\\site-packages\\sklearn\\model_selection\\_split.py:2053: FutureWarning: You should specify a value for 'cv' instead of relying on the default value. The default value will change from 3 to 5 in version 0.22.\n",
      "  warnings.warn(CV_WARNING, FutureWarning)\n",
      "[Parallel(n_jobs=-1)]: Using backend LokyBackend with 4 concurrent workers.\n"
     ]
    },
    {
     "name": "stdout",
     "output_type": "stream",
     "text": [
      "Fitting 3 folds for each of 20 candidates, totalling 60 fits\n"
     ]
    },
    {
     "name": "stderr",
     "output_type": "stream",
     "text": [
      "[Parallel(n_jobs=-1)]: Done  33 tasks      | elapsed:   40.0s\n",
      "[Parallel(n_jobs=-1)]: Done  60 out of  60 | elapsed:   59.8s finished\n"
     ]
    },
    {
     "data": {
      "text/plain": [
       "RandomizedSearchCV(cv='warn', error_score='raise-deprecating',\n",
       "          estimator=MLPClassifier(activation='relu', alpha=0.0001, batch_size='auto', beta_1=0.9,\n",
       "       beta_2=0.999, early_stopping=False, epsilon=1e-08,\n",
       "       hidden_layer_sizes=(100,), learning_rate='constant',\n",
       "       learning_rate_init=0.001, max_iter=2000, momentum=0.9,\n",
       "       n_iter_no_change=10, nesterovs_momentum=True, power_t=0.5,\n",
       "       random_state=None, shuffle=True, solver='adam', tol=0.0001,\n",
       "       validation_fraction=0.1, verbose=False, warm_start=False),\n",
       "          fit_params=None, iid='warn', n_iter=20, n_jobs=-1,\n",
       "          param_distributions={'hidden_layer_sizes': [(10,), (50,), (100,), (10, 10), (50, 50), (100, 100), (10, 5), (5, 5), (30, 20, 10), (100, 1000, 50), (1000, 100, 50), (10, 10, 10), (50, 50, 50), (100, 100, 100)], 'activation': ['identity', 'logistic', 'tanh', 'relu'], 'beta_1': [0.9, 0.8, 0.7, 0.6, 0.5], 'beta_2': [0.999, 0.9, 0.8, 0.7], 'alpha': [1e-05, 0.0001, 0.001, 0.01, 0.1, 1]},\n",
       "          pre_dispatch='2*n_jobs', random_state=None, refit=True,\n",
       "          return_train_score='warn', scoring=None, verbose=2)"
      ]
     },
     "execution_count": 36,
     "metadata": {},
     "output_type": "execute_result"
    }
   ],
   "source": [
    "from sklearn.model_selection import RandomizedSearchCV\n",
    "\n",
    "gs = RandomizedSearchCV(clf, param,\n",
    "                        n_iter=20,\n",
    "                        n_jobs=-1, verbose=2)\n",
    "\n",
    "gs.fit(X_train, y_train)"
   ]
  },
  {
   "cell_type": "code",
   "execution_count": 37,
   "metadata": {},
   "outputs": [
    {
     "data": {
      "text/plain": [
       "({'hidden_layer_sizes': (100, 100),\n",
       "  'beta_2': 0.9,\n",
       "  'beta_1': 0.8,\n",
       "  'alpha': 0.1,\n",
       "  'activation': 'logistic'},\n",
       " 0.9714285714285714,\n",
       " MLPClassifier(activation='logistic', alpha=0.1, batch_size='auto', beta_1=0.8,\n",
       "        beta_2=0.9, early_stopping=False, epsilon=1e-08,\n",
       "        hidden_layer_sizes=(100, 100), learning_rate='constant',\n",
       "        learning_rate_init=0.001, max_iter=2000, momentum=0.9,\n",
       "        n_iter_no_change=10, nesterovs_momentum=True, power_t=0.5,\n",
       "        random_state=None, shuffle=True, solver='adam', tol=0.0001,\n",
       "        validation_fraction=0.1, verbose=False, warm_start=False))"
      ]
     },
     "execution_count": 37,
     "metadata": {},
     "output_type": "execute_result"
    }
   ],
   "source": [
    "gs.best_params_, gs.best_score_, gs.best_estimator_"
   ]
  },
  {
   "cell_type": "code",
   "execution_count": 38,
   "metadata": {},
   "outputs": [
    {
     "data": {
      "text/plain": [
       "0.9649122807017544"
      ]
     },
     "execution_count": 38,
     "metadata": {},
     "output_type": "execute_result"
    }
   ],
   "source": [
    "gs.score(X_test, y_test)"
   ]
  }
 ],
 "metadata": {
  "kernelspec": {
   "display_name": "Python 3",
   "language": "python",
   "name": "python3"
  },
  "language_info": {
   "codemirror_mode": {
    "name": "ipython",
    "version": 3
   },
   "file_extension": ".py",
   "mimetype": "text/x-python",
   "name": "python",
   "nbconvert_exporter": "python",
   "pygments_lexer": "ipython3",
   "version": "3.6.8"
  }
 },
 "nbformat": 4,
 "nbformat_minor": 2
}
